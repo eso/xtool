{
 "cells": [
  {
   "cell_type": "markdown",
   "metadata": {},
   "source": [
    "### Modelling XShooter data with xtool ###"
   ]
  },
  {
   "cell_type": "code",
   "execution_count": 1,
   "metadata": {
    "ExecuteTime": {
     "end_time": "2018-08-29T17:44:17.145730Z",
     "start_time": "2018-08-29T17:44:14.079889Z"
    },
    "collapsed": false
   },
   "outputs": [],
   "source": [
    "from xtool.data import XShooterData, Order, MultiOrder\n",
    "from xtool.model import OrderModel, VirtualPixelWavelength, GenericBackground, MoffatTrace, SlopedMoffatTrace\n",
    "from xtool.model.fitters import Fitter\n",
    "import numpy as np\n",
    "\n",
    "\n",
    "from scipy import sparse\n",
    "from scipy import optimize\n",
    "import lsqlin"
   ]
  },
  {
   "cell_type": "markdown",
   "metadata": {},
   "source": [
    "#### Reading XShooter data ####"
   ]
  },
  {
   "cell_type": "code",
   "execution_count": 2,
   "metadata": {
    "ExecuteTime": {
     "end_time": "2018-08-29T17:44:17.170524Z",
     "start_time": "2018-08-29T17:44:17.147634Z"
    },
    "collapsed": false
   },
   "outputs": [],
   "source": [
    "xd = XShooterData('xtool_ds/')"
   ]
  },
  {
   "cell_type": "code",
   "execution_count": 3,
   "metadata": {
    "ExecuteTime": {
     "end_time": "2018-08-29T17:44:18.622235Z",
     "start_time": "2018-08-29T17:44:17.839431Z"
    },
    "collapsed": false
   },
   "outputs": [
    {
     "name": "stdout",
     "output_type": "stream",
     "text": [
      "WARNING: YBin not known defaulting to 1\n",
      "WARNING: YBin not known defaulting to 1\n",
      "WARNING: YBin not known defaulting to 1\n",
      "WARNING: YBin not known defaulting to 1\n",
      "WARNING: YBin not known defaulting to 1\n",
      "WARNING: YBin not known defaulting to 1\n",
      "WARNING: YBin not known defaulting to 1\n",
      "WARNING: YBin not known defaulting to 1\n",
      "WARNING: YBin not known defaulting to 1\n",
      "WARNING: YBin not known defaulting to 1\n",
      "WARNING: YBin not known defaulting to 1\n",
      "WARNING: YBin not known defaulting to 1\n",
      "WARNING: YBin not known defaulting to 1\n",
      "WARNING: YBin not known defaulting to 1\n",
      "WARNING: YBin not known defaulting to 1\n",
      "WARNING: YBin not known defaulting to 1\n",
      "WARNING: YBin not known defaulting to 1\n",
      "WARNING: YBin not known defaulting to 1\n",
      "WARNING: YBin not known defaulting to 1\n",
      "WARNING: YBin not known defaulting to 1\n",
      "WARNING: YBin not known defaulting to 1\n",
      "WARNING: YBin not known defaulting to 1\n"
     ]
    }
   ],
   "source": [
    "mask = xd.get_mask(xd.science_data)\n",
    "current_order = xd[17]\n",
    "current_order.enable_flags_as_mask()"
   ]
  },
  {
   "cell_type": "markdown",
   "metadata": {},
   "source": [
    "#### Generating a virtual pixel table for \"Wavelength\"-pixels ####"
   ]
  },
  {
   "cell_type": "code",
   "execution_count": 4,
   "metadata": {
    "ExecuteTime": {
     "end_time": "2018-08-29T17:44:23.488790Z",
     "start_time": "2018-08-29T17:44:21.648390Z"
    },
    "collapsed": false
   },
   "outputs": [],
   "source": [
    "virt_pix = VirtualPixelWavelength.from_order(current_order, wavelength_sampling=0.2)\n",
    "#virt_pix = VirtualPixelWavelength.from_order(current_order)\n",
    "pixel_table = virt_pix()"
   ]
  },
  {
   "cell_type": "markdown",
   "metadata": {
    "collapsed": false
   },
   "source": [
    "#### Initializing the two Models ####"
   ]
  },
  {
   "cell_type": "code",
   "execution_count": 5,
   "metadata": {
    "ExecuteTime": {
     "end_time": "2018-08-29T17:44:25.364468Z",
     "start_time": "2018-08-29T17:44:25.342322Z"
    },
    "collapsed": false
   },
   "outputs": [],
   "source": [
    "background_mdl = GenericBackground(pixel_table, virt_pix.wavelength_pixels)\n",
    "trace_mdl = SlopedMoffatTrace(pixel_table, virt_pix.wavelength_pixels)"
   ]
  },
  {
   "cell_type": "code",
   "execution_count": 6,
   "metadata": {
    "ExecuteTime": {
     "end_time": "2018-08-29T17:44:25.769639Z",
     "start_time": "2018-08-29T17:44:25.766834Z"
    },
    "collapsed": false
   },
   "outputs": [],
   "source": [
    "order_model = OrderModel([background_mdl, trace_mdl])"
   ]
  },
  {
   "cell_type": "markdown",
   "metadata": {},
   "source": [
    "###### Change fittable parameters ####"
   ]
  },
  {
   "cell_type": "code",
   "execution_count": 7,
   "metadata": {
    "ExecuteTime": {
     "end_time": "2018-08-29T17:44:26.651876Z",
     "start_time": "2018-08-29T17:44:26.646725Z"
    },
    "collapsed": false
   },
   "outputs": [],
   "source": [
    "order_model.trace_pos = -3\n",
    "order_model.sigma = 0.5\n",
    "order_model.sigma_slope = 0.0\n",
    "order_model.trace_slope = 0.0\n",
    "order_model.beta.fixed = False\n",
    "\n",
    "fitter = Fitter(order_model, current_order)"
   ]
  },
  {
   "cell_type": "code",
   "execution_count": 8,
   "metadata": {
    "ExecuteTime": {
     "end_time": "2018-08-29T17:48:29.986641Z",
     "start_time": "2018-08-29T17:44:27.496545Z"
    },
    "collapsed": false
   },
   "outputs": [
    {
     "name": "stderr",
     "output_type": "stream",
     "text": [
      "/Users/wkerzend/anaconda3/envs/xtool/lib/python2.7/site-packages/scipy/optimize/_minimize.py:394: RuntimeWarning: Method Nelder-Mead cannot handle constraints nor bounds.\n",
      "  RuntimeWarning)\n"
     ]
    },
    {
     "name": "stdout",
     "output_type": "stream",
     "text": [
      "Fit finished in 240.230920076 s\n"
     ]
    },
    {
     "name": "stderr",
     "output_type": "stream",
     "text": [
      "/Users/wkerzend/anaconda3/envs/xtool/lib/python2.7/site-packages/scipy/sparse/linalg/dsolve/linsolve.py:247: SparseEfficiencyWarning: splu requires CSC matrix format\n",
      "  warn('splu requires CSC matrix format', SparseEfficiencyWarning)\n",
      "/Users/wkerzend/anaconda3/envs/xtool/lib/python2.7/site-packages/scipy/sparse/linalg/dsolve/linsolve.py:165: SparseEfficiencyWarning: spsolve is more efficient when sparse b is in the CSC matrix format\n",
      "  'is in the CSC matrix format', SparseEfficiencyWarning)\n"
     ]
    }
   ],
   "source": [
    "result = fitter.fit_scipy_minimize('Nelder-Mead')"
   ]
  },
  {
   "cell_type": "code",
   "execution_count": 18,
   "metadata": {
    "collapsed": false
   },
   "outputs": [],
   "source": [
    "import cPickle as pickle\n",
    "result = pickle.load(open('order_17_psf_fit.pkl'))\n",
    "result.x = np.array([-2.44004583,  0.00254875,  0.1998531 , -0.00346627,  2.01332594])"
   ]
  },
  {
   "cell_type": "code",
   "execution_count": 23,
   "metadata": {
    "collapsed": false
   },
   "outputs": [
    {
     "data": {
      "text/plain": [
       "array([-2.49888502, -0.01654641,  0.18042513,  0.00730976])"
      ]
     },
     "execution_count": 23,
     "metadata": {},
     "output_type": "execute_result"
    }
   ],
   "source": [
    "#order 15\n",
    "result.x"
   ]
  },
  {
   "cell_type": "code",
   "execution_count": 11,
   "metadata": {
    "ExecuteTime": {
     "end_time": "2018-08-29T17:59:17.295170Z",
     "start_time": "2018-08-29T17:59:17.289705Z"
    },
    "collapsed": false
   },
   "outputs": [],
   "source": [
    "import pyds9\n",
    "d = pyds9.DS9()"
   ]
  },
  {
   "cell_type": "code",
   "execution_count": 12,
   "metadata": {
    "ExecuteTime": {
     "end_time": "2018-08-29T17:59:19.330974Z",
     "start_time": "2018-08-29T17:59:18.647243Z"
    },
    "collapsed": false
   },
   "outputs": [
    {
     "data": {
      "text/plain": [
       "1"
      ]
     },
     "execution_count": 12,
     "metadata": {},
     "output_type": "execute_result"
    }
   ],
   "source": [
    "order_model.trace_pos = result.x[0]\n",
    "#order_model.trace_pos = -2.4\n",
    "order_model.trace_slope = result.x[1]\n",
    "order_model.sigma = result.x[2]\n",
    "order_model.sigma_slope = result.x[3]\n",
    "#order_model.beta = result.x[3]\n",
    "model = order_model.evaluate_to_frame(current_order, trace_pos=order_model.trace_pos, sigma=order_model.sigma, \n",
    "                                      sigma_slope=order_model.sigma_slope, beta=order_model.beta.value,\n",
    "                                      trace_slope=order_model.trace_slope)\n",
    "\n",
    "d.set('frame 1')\n",
    "d.set_np2arr(current_order.data.filled())\n",
    "d.set('scale limits 0 5000')\n",
    "\n",
    "d.set('frame 2')\n",
    "d.set_np2arr(model.filled())\n",
    "d.set('scale limits 0 5000')\n",
    "\n",
    "d.set('frame 3')\n",
    "d.set_np2arr((current_order.data.filled() - model.filled()) / current_order.uncertainty.filled())\n",
    "\n",
    "\n",
    "#d.get()"
   ]
  },
  {
   "cell_type": "code",
   "execution_count": 11,
   "metadata": {
    "collapsed": false
   },
   "outputs": [],
   "source": [
    "test = order_model.model_list[1]"
   ]
  },
  {
   "cell_type": "code",
   "execution_count": null,
   "metadata": {
    "collapsed": true
   },
   "outputs": [],
   "source": []
  },
  {
   "cell_type": "code",
   "execution_count": 22,
   "metadata": {
    "collapsed": false
   },
   "outputs": [
    {
     "data": {
      "text/plain": [
       "array([-306.371094  , -492.39569423, -701.67612561, ...,   34.93800516,\n",
       "         41.25567972,   41.25504488])"
      ]
     },
     "execution_count": 22,
     "metadata": {},
     "output_type": "execute_result"
    }
   ],
   "source": [
    "x = array([-2.49888502, -0.01654641,  0.18042513,  0.00730976])\n",
    "order_model.evaluate(current_order, #solver='lsq', solver_dict={'max_iter':10000},\n",
    "                     trace_pos=x[0], trace_slope=x[1], sigma=x[2], sigma_slope=x[3])"
   ]
  },
  {
   "cell_type": "code",
   "execution_count": 9,
   "metadata": {
    "collapsed": false
   },
   "outputs": [
    {
     "name": "stdout",
     "output_type": "stream",
     "text": [
      "The maximum number of iterations is exceeded.\n",
      "Number of iterations: 10000, initial cost: 2.0647e+05, final cost 1.6246e+05, first-order optimality 4.11e-01.\n"
     ]
    },
    {
     "data": {
      "text/plain": [
       "array([ 7815.38274811,  7885.79386275,  7316.35589639, ...,   762.17456212,\n",
       "         813.66198748,   842.6003785 ])"
      ]
     },
     "execution_count": 9,
     "metadata": {},
     "output_type": "execute_result"
    }
   ],
   "source": [
    "order_model.evaluate(current_order, solver='lsq', solver_dict={'max_iter':10000},\n",
    "                     trace_pos=result.x[0], trace_slope=result.x[1], sigma=result.x[2], sigma_slope=result.x[3])"
   ]
  },
  {
   "cell_type": "code",
   "execution_count": 21,
   "metadata": {
    "collapsed": false
   },
   "outputs": [],
   "source": [
    "spec = order_model.model_list[1].to_spectrum()"
   ]
  },
  {
   "cell_type": "code",
   "execution_count": 22,
   "metadata": {
    "collapsed": false,
    "scrolled": true
   },
   "outputs": [
    {
     "name": "stdout",
     "output_type": "stream",
     "text": [
      "Populating the interactive namespace from numpy and matplotlib\n"
     ]
    },
    {
     "data": {
      "application/javascript": [
       "/* Put everything inside the global mpl namespace */\n",
       "window.mpl = {};\n",
       "\n",
       "mpl.get_websocket_type = function() {\n",
       "    if (typeof(WebSocket) !== 'undefined') {\n",
       "        return WebSocket;\n",
       "    } else if (typeof(MozWebSocket) !== 'undefined') {\n",
       "        return MozWebSocket;\n",
       "    } else {\n",
       "        alert('Your browser does not have WebSocket support.' +\n",
       "              'Please try Chrome, Safari or Firefox ≥ 6. ' +\n",
       "              'Firefox 4 and 5 are also supported but you ' +\n",
       "              'have to enable WebSockets in about:config.');\n",
       "    };\n",
       "}\n",
       "\n",
       "mpl.figure = function(figure_id, websocket, ondownload, parent_element) {\n",
       "    this.id = figure_id;\n",
       "\n",
       "    this.ws = websocket;\n",
       "\n",
       "    this.supports_binary = (this.ws.binaryType != undefined);\n",
       "\n",
       "    if (!this.supports_binary) {\n",
       "        var warnings = document.getElementById(\"mpl-warnings\");\n",
       "        if (warnings) {\n",
       "            warnings.style.display = 'block';\n",
       "            warnings.textContent = (\n",
       "                \"This browser does not support binary websocket messages. \" +\n",
       "                    \"Performance may be slow.\");\n",
       "        }\n",
       "    }\n",
       "\n",
       "    this.imageObj = new Image();\n",
       "\n",
       "    this.context = undefined;\n",
       "    this.message = undefined;\n",
       "    this.canvas = undefined;\n",
       "    this.rubberband_canvas = undefined;\n",
       "    this.rubberband_context = undefined;\n",
       "    this.format_dropdown = undefined;\n",
       "\n",
       "    this.image_mode = 'full';\n",
       "\n",
       "    this.root = $('<div/>');\n",
       "    this._root_extra_style(this.root)\n",
       "    this.root.attr('style', 'display: inline-block');\n",
       "\n",
       "    $(parent_element).append(this.root);\n",
       "\n",
       "    this._init_header(this);\n",
       "    this._init_canvas(this);\n",
       "    this._init_toolbar(this);\n",
       "\n",
       "    var fig = this;\n",
       "\n",
       "    this.waiting = false;\n",
       "\n",
       "    this.ws.onopen =  function () {\n",
       "            fig.send_message(\"supports_binary\", {value: fig.supports_binary});\n",
       "            fig.send_message(\"send_image_mode\", {});\n",
       "            fig.send_message(\"refresh\", {});\n",
       "        }\n",
       "\n",
       "    this.imageObj.onload = function() {\n",
       "            if (fig.image_mode == 'full') {\n",
       "                // Full images could contain transparency (where diff images\n",
       "                // almost always do), so we need to clear the canvas so that\n",
       "                // there is no ghosting.\n",
       "                fig.context.clearRect(0, 0, fig.canvas.width, fig.canvas.height);\n",
       "            }\n",
       "            fig.context.drawImage(fig.imageObj, 0, 0);\n",
       "        };\n",
       "\n",
       "    this.imageObj.onunload = function() {\n",
       "        this.ws.close();\n",
       "    }\n",
       "\n",
       "    this.ws.onmessage = this._make_on_message_function(this);\n",
       "\n",
       "    this.ondownload = ondownload;\n",
       "}\n",
       "\n",
       "mpl.figure.prototype._init_header = function() {\n",
       "    var titlebar = $(\n",
       "        '<div class=\"ui-dialog-titlebar ui-widget-header ui-corner-all ' +\n",
       "        'ui-helper-clearfix\"/>');\n",
       "    var titletext = $(\n",
       "        '<div class=\"ui-dialog-title\" style=\"width: 100%; ' +\n",
       "        'text-align: center; padding: 3px;\"/>');\n",
       "    titlebar.append(titletext)\n",
       "    this.root.append(titlebar);\n",
       "    this.header = titletext[0];\n",
       "}\n",
       "\n",
       "\n",
       "\n",
       "mpl.figure.prototype._canvas_extra_style = function(canvas_div) {\n",
       "\n",
       "}\n",
       "\n",
       "\n",
       "mpl.figure.prototype._root_extra_style = function(canvas_div) {\n",
       "\n",
       "}\n",
       "\n",
       "mpl.figure.prototype._init_canvas = function() {\n",
       "    var fig = this;\n",
       "\n",
       "    var canvas_div = $('<div/>');\n",
       "\n",
       "    canvas_div.attr('style', 'position: relative; clear: both; outline: 0');\n",
       "\n",
       "    function canvas_keyboard_event(event) {\n",
       "        return fig.key_event(event, event['data']);\n",
       "    }\n",
       "\n",
       "    canvas_div.keydown('key_press', canvas_keyboard_event);\n",
       "    canvas_div.keyup('key_release', canvas_keyboard_event);\n",
       "    this.canvas_div = canvas_div\n",
       "    this._canvas_extra_style(canvas_div)\n",
       "    this.root.append(canvas_div);\n",
       "\n",
       "    var canvas = $('<canvas/>');\n",
       "    canvas.addClass('mpl-canvas');\n",
       "    canvas.attr('style', \"left: 0; top: 0; z-index: 0; outline: 0\")\n",
       "\n",
       "    this.canvas = canvas[0];\n",
       "    this.context = canvas[0].getContext(\"2d\");\n",
       "\n",
       "    var rubberband = $('<canvas/>');\n",
       "    rubberband.attr('style', \"position: absolute; left: 0; top: 0; z-index: 1;\")\n",
       "\n",
       "    var pass_mouse_events = true;\n",
       "\n",
       "    canvas_div.resizable({\n",
       "        start: function(event, ui) {\n",
       "            pass_mouse_events = false;\n",
       "        },\n",
       "        resize: function(event, ui) {\n",
       "            fig.request_resize(ui.size.width, ui.size.height);\n",
       "        },\n",
       "        stop: function(event, ui) {\n",
       "            pass_mouse_events = true;\n",
       "            fig.request_resize(ui.size.width, ui.size.height);\n",
       "        },\n",
       "    });\n",
       "\n",
       "    function mouse_event_fn(event) {\n",
       "        if (pass_mouse_events)\n",
       "            return fig.mouse_event(event, event['data']);\n",
       "    }\n",
       "\n",
       "    rubberband.mousedown('button_press', mouse_event_fn);\n",
       "    rubberband.mouseup('button_release', mouse_event_fn);\n",
       "    // Throttle sequential mouse events to 1 every 20ms.\n",
       "    rubberband.mousemove('motion_notify', mouse_event_fn);\n",
       "\n",
       "    rubberband.mouseenter('figure_enter', mouse_event_fn);\n",
       "    rubberband.mouseleave('figure_leave', mouse_event_fn);\n",
       "\n",
       "    canvas_div.on(\"wheel\", function (event) {\n",
       "        event = event.originalEvent;\n",
       "        event['data'] = 'scroll'\n",
       "        if (event.deltaY < 0) {\n",
       "            event.step = 1;\n",
       "        } else {\n",
       "            event.step = -1;\n",
       "        }\n",
       "        mouse_event_fn(event);\n",
       "    });\n",
       "\n",
       "    canvas_div.append(canvas);\n",
       "    canvas_div.append(rubberband);\n",
       "\n",
       "    this.rubberband = rubberband;\n",
       "    this.rubberband_canvas = rubberband[0];\n",
       "    this.rubberband_context = rubberband[0].getContext(\"2d\");\n",
       "    this.rubberband_context.strokeStyle = \"#000000\";\n",
       "\n",
       "    this._resize_canvas = function(width, height) {\n",
       "        // Keep the size of the canvas, canvas container, and rubber band\n",
       "        // canvas in synch.\n",
       "        canvas_div.css('width', width)\n",
       "        canvas_div.css('height', height)\n",
       "\n",
       "        canvas.attr('width', width);\n",
       "        canvas.attr('height', height);\n",
       "\n",
       "        rubberband.attr('width', width);\n",
       "        rubberband.attr('height', height);\n",
       "    }\n",
       "\n",
       "    // Set the figure to an initial 600x600px, this will subsequently be updated\n",
       "    // upon first draw.\n",
       "    this._resize_canvas(600, 600);\n",
       "\n",
       "    // Disable right mouse context menu.\n",
       "    $(this.rubberband_canvas).bind(\"contextmenu\",function(e){\n",
       "        return false;\n",
       "    });\n",
       "\n",
       "    function set_focus () {\n",
       "        canvas.focus();\n",
       "        canvas_div.focus();\n",
       "    }\n",
       "\n",
       "    window.setTimeout(set_focus, 100);\n",
       "}\n",
       "\n",
       "mpl.figure.prototype._init_toolbar = function() {\n",
       "    var fig = this;\n",
       "\n",
       "    var nav_element = $('<div/>')\n",
       "    nav_element.attr('style', 'width: 100%');\n",
       "    this.root.append(nav_element);\n",
       "\n",
       "    // Define a callback function for later on.\n",
       "    function toolbar_event(event) {\n",
       "        return fig.toolbar_button_onclick(event['data']);\n",
       "    }\n",
       "    function toolbar_mouse_event(event) {\n",
       "        return fig.toolbar_button_onmouseover(event['data']);\n",
       "    }\n",
       "\n",
       "    for(var toolbar_ind in mpl.toolbar_items) {\n",
       "        var name = mpl.toolbar_items[toolbar_ind][0];\n",
       "        var tooltip = mpl.toolbar_items[toolbar_ind][1];\n",
       "        var image = mpl.toolbar_items[toolbar_ind][2];\n",
       "        var method_name = mpl.toolbar_items[toolbar_ind][3];\n",
       "\n",
       "        if (!name) {\n",
       "            // put a spacer in here.\n",
       "            continue;\n",
       "        }\n",
       "        var button = $('<button/>');\n",
       "        button.addClass('ui-button ui-widget ui-state-default ui-corner-all ' +\n",
       "                        'ui-button-icon-only');\n",
       "        button.attr('role', 'button');\n",
       "        button.attr('aria-disabled', 'false');\n",
       "        button.click(method_name, toolbar_event);\n",
       "        button.mouseover(tooltip, toolbar_mouse_event);\n",
       "\n",
       "        var icon_img = $('<span/>');\n",
       "        icon_img.addClass('ui-button-icon-primary ui-icon');\n",
       "        icon_img.addClass(image);\n",
       "        icon_img.addClass('ui-corner-all');\n",
       "\n",
       "        var tooltip_span = $('<span/>');\n",
       "        tooltip_span.addClass('ui-button-text');\n",
       "        tooltip_span.html(tooltip);\n",
       "\n",
       "        button.append(icon_img);\n",
       "        button.append(tooltip_span);\n",
       "\n",
       "        nav_element.append(button);\n",
       "    }\n",
       "\n",
       "    var fmt_picker_span = $('<span/>');\n",
       "\n",
       "    var fmt_picker = $('<select/>');\n",
       "    fmt_picker.addClass('mpl-toolbar-option ui-widget ui-widget-content');\n",
       "    fmt_picker_span.append(fmt_picker);\n",
       "    nav_element.append(fmt_picker_span);\n",
       "    this.format_dropdown = fmt_picker[0];\n",
       "\n",
       "    for (var ind in mpl.extensions) {\n",
       "        var fmt = mpl.extensions[ind];\n",
       "        var option = $(\n",
       "            '<option/>', {selected: fmt === mpl.default_extension}).html(fmt);\n",
       "        fmt_picker.append(option)\n",
       "    }\n",
       "\n",
       "    // Add hover states to the ui-buttons\n",
       "    $( \".ui-button\" ).hover(\n",
       "        function() { $(this).addClass(\"ui-state-hover\");},\n",
       "        function() { $(this).removeClass(\"ui-state-hover\");}\n",
       "    );\n",
       "\n",
       "    var status_bar = $('<span class=\"mpl-message\"/>');\n",
       "    nav_element.append(status_bar);\n",
       "    this.message = status_bar[0];\n",
       "}\n",
       "\n",
       "mpl.figure.prototype.request_resize = function(x_pixels, y_pixels) {\n",
       "    // Request matplotlib to resize the figure. Matplotlib will then trigger a resize in the client,\n",
       "    // which will in turn request a refresh of the image.\n",
       "    this.send_message('resize', {'width': x_pixels, 'height': y_pixels});\n",
       "}\n",
       "\n",
       "mpl.figure.prototype.send_message = function(type, properties) {\n",
       "    properties['type'] = type;\n",
       "    properties['figure_id'] = this.id;\n",
       "    this.ws.send(JSON.stringify(properties));\n",
       "}\n",
       "\n",
       "mpl.figure.prototype.send_draw_message = function() {\n",
       "    if (!this.waiting) {\n",
       "        this.waiting = true;\n",
       "        this.ws.send(JSON.stringify({type: \"draw\", figure_id: this.id}));\n",
       "    }\n",
       "}\n",
       "\n",
       "\n",
       "mpl.figure.prototype.handle_save = function(fig, msg) {\n",
       "    var format_dropdown = fig.format_dropdown;\n",
       "    var format = format_dropdown.options[format_dropdown.selectedIndex].value;\n",
       "    fig.ondownload(fig, format);\n",
       "}\n",
       "\n",
       "\n",
       "mpl.figure.prototype.handle_resize = function(fig, msg) {\n",
       "    var size = msg['size'];\n",
       "    if (size[0] != fig.canvas.width || size[1] != fig.canvas.height) {\n",
       "        fig._resize_canvas(size[0], size[1]);\n",
       "        fig.send_message(\"refresh\", {});\n",
       "    };\n",
       "}\n",
       "\n",
       "mpl.figure.prototype.handle_rubberband = function(fig, msg) {\n",
       "    var x0 = msg['x0'];\n",
       "    var y0 = fig.canvas.height - msg['y0'];\n",
       "    var x1 = msg['x1'];\n",
       "    var y1 = fig.canvas.height - msg['y1'];\n",
       "    x0 = Math.floor(x0) + 0.5;\n",
       "    y0 = Math.floor(y0) + 0.5;\n",
       "    x1 = Math.floor(x1) + 0.5;\n",
       "    y1 = Math.floor(y1) + 0.5;\n",
       "    var min_x = Math.min(x0, x1);\n",
       "    var min_y = Math.min(y0, y1);\n",
       "    var width = Math.abs(x1 - x0);\n",
       "    var height = Math.abs(y1 - y0);\n",
       "\n",
       "    fig.rubberband_context.clearRect(\n",
       "        0, 0, fig.canvas.width, fig.canvas.height);\n",
       "\n",
       "    fig.rubberband_context.strokeRect(min_x, min_y, width, height);\n",
       "}\n",
       "\n",
       "mpl.figure.prototype.handle_figure_label = function(fig, msg) {\n",
       "    // Updates the figure title.\n",
       "    fig.header.textContent = msg['label'];\n",
       "}\n",
       "\n",
       "mpl.figure.prototype.handle_cursor = function(fig, msg) {\n",
       "    var cursor = msg['cursor'];\n",
       "    switch(cursor)\n",
       "    {\n",
       "    case 0:\n",
       "        cursor = 'pointer';\n",
       "        break;\n",
       "    case 1:\n",
       "        cursor = 'default';\n",
       "        break;\n",
       "    case 2:\n",
       "        cursor = 'crosshair';\n",
       "        break;\n",
       "    case 3:\n",
       "        cursor = 'move';\n",
       "        break;\n",
       "    }\n",
       "    fig.rubberband_canvas.style.cursor = cursor;\n",
       "}\n",
       "\n",
       "mpl.figure.prototype.handle_message = function(fig, msg) {\n",
       "    fig.message.textContent = msg['message'];\n",
       "}\n",
       "\n",
       "mpl.figure.prototype.handle_draw = function(fig, msg) {\n",
       "    // Request the server to send over a new figure.\n",
       "    fig.send_draw_message();\n",
       "}\n",
       "\n",
       "mpl.figure.prototype.handle_image_mode = function(fig, msg) {\n",
       "    fig.image_mode = msg['mode'];\n",
       "}\n",
       "\n",
       "mpl.figure.prototype.updated_canvas_event = function() {\n",
       "    // Called whenever the canvas gets updated.\n",
       "    this.send_message(\"ack\", {});\n",
       "}\n",
       "\n",
       "// A function to construct a web socket function for onmessage handling.\n",
       "// Called in the figure constructor.\n",
       "mpl.figure.prototype._make_on_message_function = function(fig) {\n",
       "    return function socket_on_message(evt) {\n",
       "        if (evt.data instanceof Blob) {\n",
       "            /* FIXME: We get \"Resource interpreted as Image but\n",
       "             * transferred with MIME type text/plain:\" errors on\n",
       "             * Chrome.  But how to set the MIME type?  It doesn't seem\n",
       "             * to be part of the websocket stream */\n",
       "            evt.data.type = \"image/png\";\n",
       "\n",
       "            /* Free the memory for the previous frames */\n",
       "            if (fig.imageObj.src) {\n",
       "                (window.URL || window.webkitURL).revokeObjectURL(\n",
       "                    fig.imageObj.src);\n",
       "            }\n",
       "\n",
       "            fig.imageObj.src = (window.URL || window.webkitURL).createObjectURL(\n",
       "                evt.data);\n",
       "            fig.updated_canvas_event();\n",
       "            fig.waiting = false;\n",
       "            return;\n",
       "        }\n",
       "        else if (typeof evt.data === 'string' && evt.data.slice(0, 21) == \"data:image/png;base64\") {\n",
       "            fig.imageObj.src = evt.data;\n",
       "            fig.updated_canvas_event();\n",
       "            fig.waiting = false;\n",
       "            return;\n",
       "        }\n",
       "\n",
       "        var msg = JSON.parse(evt.data);\n",
       "        var msg_type = msg['type'];\n",
       "\n",
       "        // Call the  \"handle_{type}\" callback, which takes\n",
       "        // the figure and JSON message as its only arguments.\n",
       "        try {\n",
       "            var callback = fig[\"handle_\" + msg_type];\n",
       "        } catch (e) {\n",
       "            console.log(\"No handler for the '\" + msg_type + \"' message type: \", msg);\n",
       "            return;\n",
       "        }\n",
       "\n",
       "        if (callback) {\n",
       "            try {\n",
       "                // console.log(\"Handling '\" + msg_type + \"' message: \", msg);\n",
       "                callback(fig, msg);\n",
       "            } catch (e) {\n",
       "                console.log(\"Exception inside the 'handler_\" + msg_type + \"' callback:\", e, e.stack, msg);\n",
       "            }\n",
       "        }\n",
       "    };\n",
       "}\n",
       "\n",
       "// from http://stackoverflow.com/questions/1114465/getting-mouse-location-in-canvas\n",
       "mpl.findpos = function(e) {\n",
       "    //this section is from http://www.quirksmode.org/js/events_properties.html\n",
       "    var targ;\n",
       "    if (!e)\n",
       "        e = window.event;\n",
       "    if (e.target)\n",
       "        targ = e.target;\n",
       "    else if (e.srcElement)\n",
       "        targ = e.srcElement;\n",
       "    if (targ.nodeType == 3) // defeat Safari bug\n",
       "        targ = targ.parentNode;\n",
       "\n",
       "    // jQuery normalizes the pageX and pageY\n",
       "    // pageX,Y are the mouse positions relative to the document\n",
       "    // offset() returns the position of the element relative to the document\n",
       "    var x = e.pageX - $(targ).offset().left;\n",
       "    var y = e.pageY - $(targ).offset().top;\n",
       "\n",
       "    return {\"x\": x, \"y\": y};\n",
       "};\n",
       "\n",
       "/*\n",
       " * return a copy of an object with only non-object keys\n",
       " * we need this to avoid circular references\n",
       " * http://stackoverflow.com/a/24161582/3208463\n",
       " */\n",
       "function simpleKeys (original) {\n",
       "  return Object.keys(original).reduce(function (obj, key) {\n",
       "    if (typeof original[key] !== 'object')\n",
       "        obj[key] = original[key]\n",
       "    return obj;\n",
       "  }, {});\n",
       "}\n",
       "\n",
       "mpl.figure.prototype.mouse_event = function(event, name) {\n",
       "    var canvas_pos = mpl.findpos(event)\n",
       "\n",
       "    if (name === 'button_press')\n",
       "    {\n",
       "        this.canvas.focus();\n",
       "        this.canvas_div.focus();\n",
       "    }\n",
       "\n",
       "    var x = canvas_pos.x;\n",
       "    var y = canvas_pos.y;\n",
       "\n",
       "    this.send_message(name, {x: x, y: y, button: event.button,\n",
       "                             step: event.step,\n",
       "                             guiEvent: simpleKeys(event)});\n",
       "\n",
       "    /* This prevents the web browser from automatically changing to\n",
       "     * the text insertion cursor when the button is pressed.  We want\n",
       "     * to control all of the cursor setting manually through the\n",
       "     * 'cursor' event from matplotlib */\n",
       "    event.preventDefault();\n",
       "    return false;\n",
       "}\n",
       "\n",
       "mpl.figure.prototype._key_event_extra = function(event, name) {\n",
       "    // Handle any extra behaviour associated with a key event\n",
       "}\n",
       "\n",
       "mpl.figure.prototype.key_event = function(event, name) {\n",
       "\n",
       "    // Prevent repeat events\n",
       "    if (name == 'key_press')\n",
       "    {\n",
       "        if (event.which === this._key)\n",
       "            return;\n",
       "        else\n",
       "            this._key = event.which;\n",
       "    }\n",
       "    if (name == 'key_release')\n",
       "        this._key = null;\n",
       "\n",
       "    var value = '';\n",
       "    if (event.ctrlKey && event.which != 17)\n",
       "        value += \"ctrl+\";\n",
       "    if (event.altKey && event.which != 18)\n",
       "        value += \"alt+\";\n",
       "    if (event.shiftKey && event.which != 16)\n",
       "        value += \"shift+\";\n",
       "\n",
       "    value += 'k';\n",
       "    value += event.which.toString();\n",
       "\n",
       "    this._key_event_extra(event, name);\n",
       "\n",
       "    this.send_message(name, {key: value,\n",
       "                             guiEvent: simpleKeys(event)});\n",
       "    return false;\n",
       "}\n",
       "\n",
       "mpl.figure.prototype.toolbar_button_onclick = function(name) {\n",
       "    if (name == 'download') {\n",
       "        this.handle_save(this, null);\n",
       "    } else {\n",
       "        this.send_message(\"toolbar_button\", {name: name});\n",
       "    }\n",
       "};\n",
       "\n",
       "mpl.figure.prototype.toolbar_button_onmouseover = function(tooltip) {\n",
       "    this.message.textContent = tooltip;\n",
       "};\n",
       "mpl.toolbar_items = [[\"Home\", \"Reset original view\", \"fa fa-home icon-home\", \"home\"], [\"Back\", \"Back to  previous view\", \"fa fa-arrow-left icon-arrow-left\", \"back\"], [\"Forward\", \"Forward to next view\", \"fa fa-arrow-right icon-arrow-right\", \"forward\"], [\"\", \"\", \"\", \"\"], [\"Pan\", \"Pan axes with left mouse, zoom with right\", \"fa fa-arrows icon-move\", \"pan\"], [\"Zoom\", \"Zoom to rectangle\", \"fa fa-square-o icon-check-empty\", \"zoom\"], [\"\", \"\", \"\", \"\"], [\"Download\", \"Download plot\", \"fa fa-floppy-o icon-save\", \"download\"]];\n",
       "\n",
       "mpl.extensions = [\"eps\", \"pdf\", \"png\", \"ps\", \"raw\", \"svg\"];\n",
       "\n",
       "mpl.default_extension = \"png\";var comm_websocket_adapter = function(comm) {\n",
       "    // Create a \"websocket\"-like object which calls the given IPython comm\n",
       "    // object with the appropriate methods. Currently this is a non binary\n",
       "    // socket, so there is still some room for performance tuning.\n",
       "    var ws = {};\n",
       "\n",
       "    ws.close = function() {\n",
       "        comm.close()\n",
       "    };\n",
       "    ws.send = function(m) {\n",
       "        //console.log('sending', m);\n",
       "        comm.send(m);\n",
       "    };\n",
       "    // Register the callback with on_msg.\n",
       "    comm.on_msg(function(msg) {\n",
       "        //console.log('receiving', msg['content']['data'], msg);\n",
       "        // Pass the mpl event to the overriden (by mpl) onmessage function.\n",
       "        ws.onmessage(msg['content']['data'])\n",
       "    });\n",
       "    return ws;\n",
       "}\n",
       "\n",
       "mpl.mpl_figure_comm = function(comm, msg) {\n",
       "    // This is the function which gets called when the mpl process\n",
       "    // starts-up an IPython Comm through the \"matplotlib\" channel.\n",
       "\n",
       "    var id = msg.content.data.id;\n",
       "    // Get hold of the div created by the display call when the Comm\n",
       "    // socket was opened in Python.\n",
       "    var element = $(\"#\" + id);\n",
       "    var ws_proxy = comm_websocket_adapter(comm)\n",
       "\n",
       "    function ondownload(figure, format) {\n",
       "        window.open(figure.imageObj.src);\n",
       "    }\n",
       "\n",
       "    var fig = new mpl.figure(id, ws_proxy,\n",
       "                           ondownload,\n",
       "                           element.get(0));\n",
       "\n",
       "    // Call onopen now - mpl needs it, as it is assuming we've passed it a real\n",
       "    // web socket which is closed, not our websocket->open comm proxy.\n",
       "    ws_proxy.onopen();\n",
       "\n",
       "    fig.parent_element = element.get(0);\n",
       "    fig.cell_info = mpl.find_output_cell(\"<div id='\" + id + \"'></div>\");\n",
       "    if (!fig.cell_info) {\n",
       "        console.error(\"Failed to find cell for figure\", id, fig);\n",
       "        return;\n",
       "    }\n",
       "\n",
       "    var output_index = fig.cell_info[2]\n",
       "    var cell = fig.cell_info[0];\n",
       "\n",
       "};\n",
       "\n",
       "mpl.figure.prototype.handle_close = function(fig, msg) {\n",
       "    fig.root.unbind('remove')\n",
       "\n",
       "    // Update the output cell to use the data from the current canvas.\n",
       "    fig.push_to_output();\n",
       "    var dataURL = fig.canvas.toDataURL();\n",
       "    // Re-enable the keyboard manager in IPython - without this line, in FF,\n",
       "    // the notebook keyboard shortcuts fail.\n",
       "    IPython.keyboard_manager.enable()\n",
       "    $(fig.parent_element).html('<img src=\"' + dataURL + '\">');\n",
       "    fig.close_ws(fig, msg);\n",
       "}\n",
       "\n",
       "mpl.figure.prototype.close_ws = function(fig, msg){\n",
       "    fig.send_message('closing', msg);\n",
       "    // fig.ws.close()\n",
       "}\n",
       "\n",
       "mpl.figure.prototype.push_to_output = function(remove_interactive) {\n",
       "    // Turn the data on the canvas into data in the output cell.\n",
       "    var dataURL = this.canvas.toDataURL();\n",
       "    this.cell_info[1]['text/html'] = '<img src=\"' + dataURL + '\">';\n",
       "}\n",
       "\n",
       "mpl.figure.prototype.updated_canvas_event = function() {\n",
       "    // Tell IPython that the notebook contents must change.\n",
       "    IPython.notebook.set_dirty(true);\n",
       "    this.send_message(\"ack\", {});\n",
       "    var fig = this;\n",
       "    // Wait a second, then push the new image to the DOM so\n",
       "    // that it is saved nicely (might be nice to debounce this).\n",
       "    setTimeout(function () { fig.push_to_output() }, 1000);\n",
       "}\n",
       "\n",
       "mpl.figure.prototype._init_toolbar = function() {\n",
       "    var fig = this;\n",
       "\n",
       "    var nav_element = $('<div/>')\n",
       "    nav_element.attr('style', 'width: 100%');\n",
       "    this.root.append(nav_element);\n",
       "\n",
       "    // Define a callback function for later on.\n",
       "    function toolbar_event(event) {\n",
       "        return fig.toolbar_button_onclick(event['data']);\n",
       "    }\n",
       "    function toolbar_mouse_event(event) {\n",
       "        return fig.toolbar_button_onmouseover(event['data']);\n",
       "    }\n",
       "\n",
       "    for(var toolbar_ind in mpl.toolbar_items){\n",
       "        var name = mpl.toolbar_items[toolbar_ind][0];\n",
       "        var tooltip = mpl.toolbar_items[toolbar_ind][1];\n",
       "        var image = mpl.toolbar_items[toolbar_ind][2];\n",
       "        var method_name = mpl.toolbar_items[toolbar_ind][3];\n",
       "\n",
       "        if (!name) { continue; };\n",
       "\n",
       "        var button = $('<button class=\"btn btn-default\" href=\"#\" title=\"' + name + '\"><i class=\"fa ' + image + ' fa-lg\"></i></button>');\n",
       "        button.click(method_name, toolbar_event);\n",
       "        button.mouseover(tooltip, toolbar_mouse_event);\n",
       "        nav_element.append(button);\n",
       "    }\n",
       "\n",
       "    // Add the status bar.\n",
       "    var status_bar = $('<span class=\"mpl-message\" style=\"text-align:right; float: right;\"/>');\n",
       "    nav_element.append(status_bar);\n",
       "    this.message = status_bar[0];\n",
       "\n",
       "    // Add the close button to the window.\n",
       "    var buttongrp = $('<div class=\"btn-group inline pull-right\"></div>');\n",
       "    var button = $('<button class=\"btn btn-mini btn-primary\" href=\"#\" title=\"Stop Interaction\"><i class=\"fa fa-power-off icon-remove icon-large\"></i></button>');\n",
       "    button.click(function (evt) { fig.handle_close(fig, {}); } );\n",
       "    button.mouseover('Stop Interaction', toolbar_mouse_event);\n",
       "    buttongrp.append(button);\n",
       "    var titlebar = this.root.find($('.ui-dialog-titlebar'));\n",
       "    titlebar.prepend(buttongrp);\n",
       "}\n",
       "\n",
       "mpl.figure.prototype._root_extra_style = function(el){\n",
       "    var fig = this\n",
       "    el.on(\"remove\", function(){\n",
       "\tfig.close_ws(fig, {});\n",
       "    });\n",
       "}\n",
       "\n",
       "mpl.figure.prototype._canvas_extra_style = function(el){\n",
       "    // this is important to make the div 'focusable\n",
       "    el.attr('tabindex', 0)\n",
       "    // reach out to IPython and tell the keyboard manager to turn it's self\n",
       "    // off when our div gets focus\n",
       "\n",
       "    // location in version 3\n",
       "    if (IPython.notebook.keyboard_manager) {\n",
       "        IPython.notebook.keyboard_manager.register_events(el);\n",
       "    }\n",
       "    else {\n",
       "        // location in version 2\n",
       "        IPython.keyboard_manager.register_events(el);\n",
       "    }\n",
       "\n",
       "}\n",
       "\n",
       "mpl.figure.prototype._key_event_extra = function(event, name) {\n",
       "    var manager = IPython.notebook.keyboard_manager;\n",
       "    if (!manager)\n",
       "        manager = IPython.keyboard_manager;\n",
       "\n",
       "    // Check for shift+enter\n",
       "    if (event.shiftKey && event.which == 13) {\n",
       "        this.canvas_div.blur();\n",
       "        event.shiftKey = false;\n",
       "        // Send a \"J\" for go to next cell\n",
       "        event.which = 74;\n",
       "        event.keyCode = 74;\n",
       "        manager.command_mode();\n",
       "        manager.handle_keydown(event);\n",
       "    }\n",
       "}\n",
       "\n",
       "mpl.figure.prototype.handle_save = function(fig, msg) {\n",
       "    fig.ondownload(fig, null);\n",
       "}\n",
       "\n",
       "\n",
       "mpl.find_output_cell = function(html_output) {\n",
       "    // Return the cell and output element which can be found *uniquely* in the notebook.\n",
       "    // Note - this is a bit hacky, but it is done because the \"notebook_saving.Notebook\"\n",
       "    // IPython event is triggered only after the cells have been serialised, which for\n",
       "    // our purposes (turning an active figure into a static one), is too late.\n",
       "    var cells = IPython.notebook.get_cells();\n",
       "    var ncells = cells.length;\n",
       "    for (var i=0; i<ncells; i++) {\n",
       "        var cell = cells[i];\n",
       "        if (cell.cell_type === 'code'){\n",
       "            for (var j=0; j<cell.output_area.outputs.length; j++) {\n",
       "                var data = cell.output_area.outputs[j];\n",
       "                if (data.data) {\n",
       "                    // IPython >= 3 moved mimebundle to data attribute of output\n",
       "                    data = data.data;\n",
       "                }\n",
       "                if (data['text/html'] == html_output) {\n",
       "                    return [cell, data, j];\n",
       "                }\n",
       "            }\n",
       "        }\n",
       "    }\n",
       "}\n",
       "\n",
       "// Register the function which deals with the matplotlib target/channel.\n",
       "// The kernel may be null if the page has been refreshed.\n",
       "if (IPython.notebook.kernel != null) {\n",
       "    IPython.notebook.kernel.comm_manager.register_target('matplotlib', mpl.mpl_figure_comm);\n",
       "}\n"
      ],
      "text/plain": [
       "<IPython.core.display.Javascript object>"
      ]
     },
     "metadata": {},
     "output_type": "display_data"
    },
    {
     "data": {
      "text/html": [
       "<img src=\"data:image/png;base64,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\">"
      ],
      "text/plain": [
       "<IPython.core.display.HTML object>"
      ]
     },
     "metadata": {},
     "output_type": "display_data"
    }
   ],
   "source": [
    "%pylab nbagg\n",
    "clf()\n",
    "plot(spec.wavelength.value, spec.flux.value)\n",
    "np.savetxt('vp_extract.dat', zip(spec.wavelength.value, spec.flux.value))"
   ]
  },
  {
   "cell_type": "code",
   "execution_count": 12,
   "metadata": {
    "collapsed": true
   },
   "outputs": [],
   "source": [
    "savefig('ringing_spectrum.pdf')"
   ]
  },
  {
   "cell_type": "code",
   "execution_count": 24,
   "metadata": {
    "collapsed": false
   },
   "outputs": [
    {
     "data": {
      "text/plain": [
       "<80307x638 sparse matrix of type '<type 'numpy.float64'>'\n",
       "\twith 105977 stored elements in COOrdinate format>"
      ]
     },
     "execution_count": 24,
     "metadata": {},
     "output_type": "execute_result"
    }
   ],
   "source": [
    "order_model.model_list[0].generate_design_matrix()"
   ]
  },
  {
   "cell_type": "code",
   "execution_count": 25,
   "metadata": {
    "collapsed": true
   },
   "outputs": [],
   "source": [
    "optimize.lsq_linear?"
   ]
  },
  {
   "cell_type": "code",
   "execution_count": null,
   "metadata": {
    "collapsed": true
   },
   "outputs": [],
   "source": []
  }
 ],
 "metadata": {
  "celltoolbar": "Raw Cell Format",
  "kernelspec": {
   "display_name": "Python 2",
   "language": "python",
   "name": "python2"
  },
  "language_info": {
   "codemirror_mode": {
    "name": "ipython",
    "version": 2
   },
   "file_extension": ".py",
   "mimetype": "text/x-python",
   "name": "python",
   "nbconvert_exporter": "python",
   "pygments_lexer": "ipython2",
   "version": "2.7.12"
  },
  "toc": {
   "nav_menu": {},
   "number_sections": true,
   "sideBar": true,
   "skip_h1_title": false,
   "toc_cell": false,
   "toc_position": {},
   "toc_section_display": "block",
   "toc_window_display": false
  }
 },
 "nbformat": 4,
 "nbformat_minor": 0
}
