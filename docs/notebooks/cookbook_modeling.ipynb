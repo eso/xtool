{
 "cells": [
  {
   "cell_type": "markdown",
   "metadata": {},
   "source": [
    "### Modelling XShooter data with xtool ###"
   ]
  },
  {
   "cell_type": "code",
   "execution_count": 3,
   "metadata": {
    "collapsed": false
   },
   "outputs": [],
   "source": [
    "from xtool.data import XShooterData, Order\n",
    "from xtool.model import OrderModel, GenericBackground, MoffatTrace, VirtualPixelWavelength\n",
    "\n",
    "from scipy import sparse\n",
    "from scipy import optimize"
   ]
  },
  {
   "cell_type": "markdown",
   "metadata": {},
   "source": [
    "#### Reading XShooter data ####"
   ]
  },
  {
   "cell_type": "code",
   "execution_count": 4,
   "metadata": {
    "collapsed": false
   },
   "outputs": [],
   "source": [
    "xd = XShooterData('xtool_ds/')"
   ]
  },
  {
   "cell_type": "code",
   "execution_count": 5,
   "metadata": {
    "collapsed": false
   },
   "outputs": [],
   "source": [
    "current_order = xd[17]"
   ]
  },
  {
   "cell_type": "markdown",
   "metadata": {},
   "source": [
    "#### Generating a virtual pixel table for \"Wavelength\"-pixels ####"
   ]
  },
  {
   "cell_type": "code",
   "execution_count": 6,
   "metadata": {
    "collapsed": false
   },
   "outputs": [],
   "source": [
    "virt_pix = VirtualPixelWavelength.from_order(current_order)\n",
    "pixel_table = virt_pix()"
   ]
  },
  {
   "cell_type": "markdown",
   "metadata": {
    "collapsed": false
   },
   "source": [
    "#### Initializing the two Models ####"
   ]
  },
  {
   "cell_type": "code",
   "execution_count": 7,
   "metadata": {
    "collapsed": false
   },
   "outputs": [],
   "source": [
    "background_mdl = GenericBackground(pixel_table)\n",
    "trace_mdl = MoffatTrace(pixel_table)"
   ]
  },
  {
   "cell_type": "code",
   "execution_count": 8,
   "metadata": {
    "collapsed": false
   },
   "outputs": [],
   "source": [
    "order_model = OrderModel([background_mdl, trace_mdl])"
   ]
  },
  {
   "cell_type": "markdown",
   "metadata": {},
   "source": [
    "#### Show fittable parameters ####"
   ]
  },
  {
   "cell_type": "code",
   "execution_count": 9,
   "metadata": {
    "collapsed": false
   },
   "outputs": [
    {
     "data": {
      "text/plain": [
       "<OrderModel(background_level=[  4.65477892e+18   4.65477936e+18   4.65477892e+18 ...,   4.65419002e+18\n",
       "   4.65419002e+18   4.65419002e+18], amplitude=[ nan  nan  nan ...,  nan  nan  nan], trace_pos=0.0, sigma=1.0, beta=1.5 [f])>"
      ]
     },
     "execution_count": 9,
     "metadata": {},
     "output_type": "execute_result"
    }
   ],
   "source": [
    "order_model"
   ]
  },
  {
   "cell_type": "markdown",
   "metadata": {},
   "source": [
    "#### Change fittable parameters ####"
   ]
  },
  {
   "cell_type": "code",
   "execution_count": 10,
   "metadata": {
    "collapsed": false
   },
   "outputs": [
    {
     "data": {
      "text/plain": [
       "Parameter('trace_pos', value=0.0)"
      ]
     },
     "execution_count": 10,
     "metadata": {},
     "output_type": "execute_result"
    }
   ],
   "source": [
    "order_model.trace_pos"
   ]
  },
  {
   "cell_type": "code",
   "execution_count": 11,
   "metadata": {
    "collapsed": true
   },
   "outputs": [],
   "source": [
    "order_model.trace_pos = 10."
   ]
  },
  {
   "cell_type": "code",
   "execution_count": 12,
   "metadata": {
    "collapsed": false
   },
   "outputs": [
    {
     "data": {
      "text/plain": [
       "Parameter('trace_pos', value=10.0)"
      ]
     },
     "execution_count": 12,
     "metadata": {},
     "output_type": "execute_result"
    }
   ],
   "source": [
    "order_model.trace_pos"
   ]
  },
  {
   "cell_type": "markdown",
   "metadata": {},
   "source": [
    "#### Generating a model ####\n",
    "\n",
    "1. We generate a design matrix (https://en.wikipedia.org/wiki/Design_matrix)\n",
    "2. We solve the design matrix\n",
    "\n",
    "The evaluate does both of these steps at the same time"
   ]
  },
  {
   "cell_type": "code",
   "execution_count": 13,
   "metadata": {
    "collapsed": false
   },
   "outputs": [],
   "source": [
    "# Generating the design matrix often depicted as capital A\n",
    "\n",
    "A = order_model.generate_design_matrix(trace_pos=-5, sigma=1.5)\n",
    "\n",
    "# adding the uncertainties to the design matrix\n",
    "A.data /= current_order.uncertainty.compressed()[A.row]\n",
    "\n",
    "# making a vector of the result pixels often depicted as lower-case b\n",
    "\n",
    "b = current_order.data.compressed() / current_order.uncertainty.compressed()\n",
    "result = sparse.linalg.lsmr(A, b)"
   ]
  },
  {
   "cell_type": "code",
   "execution_count": 14,
   "metadata": {
    "collapsed": false
   },
   "outputs": [
    {
     "data": {
      "text/plain": [
       "(array([-139.75576407,  803.07479466,  734.99747033, ...,   36.2185333 ,\n",
       "         139.07635082,  118.40347293]),\n",
       " 2,\n",
       " 1292,\n",
       " 3229.9116167401157,\n",
       " 0.078203559417645799,\n",
       " 24.225493274011736,\n",
       " 32.189878788183037,\n",
       " 272679.62519832124)"
      ]
     },
     "execution_count": 14,
     "metadata": {},
     "output_type": "execute_result"
    }
   ],
   "source": [
    "result"
   ]
  },
  {
   "cell_type": "code",
   "execution_count": 18,
   "metadata": {
    "collapsed": true
   },
   "outputs": [],
   "source": [
    "import matplotlib.pyplot as plt\n",
    "from scipy.sparse import coo_matrix\n",
    "\n",
    "#from http://stackoverflow.com/questions/22961541/python-matplotlib-plot-sparse-matrix-pattern\n",
    "\n",
    "def plot_coo_matrix(m):\n",
    "    if not isinstance(m, coo_matrix):\n",
    "        m = coo_matrix(m)\n",
    "    fig = plt.figure()\n",
    "    ax = fig.add_subplot(111, axisbg='white')\n",
    "    ax.plot(m.col, m.row, 's', color='black', ms=1)\n",
    "    ax.set_xlim(0, m.shape[1])\n",
    "    ax.set_ylim(0, m.shape[0])\n",
    "    ax.set_aspect('auto')\n",
    "    for spine in ax.spines.values():\n",
    "        spine.set_visible(False)\n",
    "    ax.invert_yaxis()\n",
    "    ax.set_aspect('auto')\n",
    "    ax.set_xticks([])\n",
    "    ax.set_yticks([])\n",
    "    return ax"
   ]
  },
  {
   "cell_type": "code",
   "execution_count": 19,
   "metadata": {
    "collapsed": false
   },
   "outputs": [
    {
     "data": {
      "text/plain": [
       "<IPython.core.display.Javascript object>"
      ]
     },
     "metadata": {},
     "output_type": "display_data"
    },
    {
     "data": {
      "text/html": [
       "<img src=\"data:image/png;base64,iVBORw0KGgoAAAANSUhEUgAAAoAAAAHgCAYAAAA10dzkAAAgAElEQVR4Xu3dO4xd1dk/4IXD7Y9xUDKGXATKJ5BHIlKQoLCLpAiFTeNUdpU0NnQRVEEKTVKEJkihgpRgN0llV06DXYQiKewCpCARySNQovDPBcYJ4mJIwPjTgPmCOXtmzjlrr71uDyWcvS7Pu97sX/aeOXNN8A8BAgQIECBAgEBXAtd0tVubJUCAAAECBAgQCAKgQ0CAAAECBAgQ6ExAAOys4LZLgAABAgQIEBAAnQECBAgQIECAQGcCAmBnBbddAgQIECBAgIAA6AwQIECAAAECBDoTEAA7K7jtEiBAgAABAgQEQGeAAAECBAgQINCZgADYWcFtlwABAgQIECAgADoDBAgQIECAAIHOBATAzgpuuwQIECBAgAABAdAZIECAAAECBAh0JiAAdlZw2yVAgAABAgQICIDOAAECBAgQIECgMwEBsLOC2y4BAgQIECBAQAB0BggQIECAAAECnQkIgJ0V3HYJECBAgAABAgKgM0CAAAECBAgQ6ExAAOys4LZLgAABAgQIEBAAnQECBAgQIECAQGcCAmBnBbddAgQIECBAgIAA6AwQIECAAAECBDoTEAA7K7jtEiBAgAABAgQEQGeAAAECBAgQINCZgADYWcFtlwABAgQIECAgADoDBAgQIECAAIHOBATAzgpuuwQIECBAgAABAdAZIECAAAECBAh0JiAAdlZw2yVAgAABAgQICIDOAAECBAgQIECgMwEBsLOC2y4BAgQIECBAQAB0BggQIECAAAECnQkIgJ0V3HYJECBAgAABAgKgM0CAAAECBAgQ6ExAAOys4LZLgAABAgQIEBAAnQECBAgQIECAQGcCAmBnBbddAgQIECBAgIAA6AwQIECAAAECBDoTEAA7K7jtEiBAgAABAgQEQGeAAAECBAgQINCZgADYWcFtlwABAgQIECAgADoDBAgQIECAAIHOBATAzgpuuwQIECBAgAABAdAZIECAAAECBAh0JiAAdlZw2yVAgAABAgQICIDOAAECBAgQIECgMwEBsLOC2y4BAgQIECBAQACMPAOXL1++HDmEywkQKETg3LlzYd++fTOr0eaFFMgyCEQIbNLf3eagbjcecYauulQAHEvSOATyC1xzzez/JB48eDCcOnUq/+KsgACBKIGB/v4ohPCFqEErvlgAjCyeABgJ6HIChQgMhb+NpXn6V0iBLINAhMAm/S0ARph2f6kA2P0RANCAwGavfm+55Zbw5ptvNrBDWyDQr8Bm/R1C+P8hhNt7lfEEMLLyAmAkoMsJFCDg6V8BRbAEAokENuvvEELXGajrzY9x1gTAMRSNQSCfwK5du8I777wzswCvfvPVxMwExhLYqr+v2SIZjjV/yeMIgJHVEQAjAV1OILPA0D3g+9//fvjVr36VeWWmJ0AgVmCr/hYAY3U7v14A7PwA2H7VAl79Vl0+iyewpcB2/S0AOkBRAgJgFJ+LCWQT+N73vhd+85vfzMx/9uzZsHfv3mzrMjEBAvEC8/S3ABjv3PUIAmDX5bf5igWGng5s/LzQW2+9VfGuLJ0AgQ2BefpbAHRWogQEwCg+FxPIIrDdq6EsizIpAQKjCMzb3wLgKNz9DiIA9lt7O69T4IknngiPPfbYzOIPHDgQnnvuuTo3ZdUECHwssEh/C4AOTZSAABjF52ICkwvM+3Rg8oWZkACBaIFF+lsAjObuewABsO/6231dAovcHOramdUSILBofwuAzkyUgAAYxediApMJXLhwIezevXtmvkOHDoUTJ05Mtg4TESAwvsAy/S0Ajl+HrkYUALsqt81WLLDo04GKt2rpBLoTWKa/BcDujsm4GxYAx/U0GoEUAqurq2FtbW1maH/uLYW2MQlMK7BsfwuA09apudkEwOZKakONCWz2auhrX/ta+Otf/9rYbm2HQF8CMf0tAPZ1VkbfrQA4OqkBCYwqsMyroVEXYDACBJIJxPS3AJisLH0MLAD2UWe7rFPg6aefDo888sjM4p966qnw8MMP17kpqyZA4GOB2P4WAB2kKAEBMIrPxQSSCsQ8HUi6MIMTIBAtENvfAmB0CfoeQADsu/52X67Ajh07wtAvefjFj3JrZmUE5hUYo78FwHm1fW5QQAB0MAiUKTD0dGDj+/42vvfPPwQI1C0wRn8LgHWfgeyrFwCzl8ACCMwIxL4aQkqAQLkCY/W3AFhujatYmQBYRZkssiOBffv2hXPnzs3s2Kvfjg6BrTYrMGZ/C4DNHpNpNiYATuNsFgLzCgw9Hbj77rvDyy+/PO8QPkeAQKECY/a3AFhokWtZlgBYS6WssweBnTt3hosXL3r610Ox7bE7gbH7WwDs7giNu2EBcFxPoxFYVuDMmTPhwIEDM5f7zr9lRV1HoByBFP0tAJZT3ypXIgBWWTaLblBgrB8Mb5DGlghUL5CivwXA6o9F3g0IgHn9zU5gQ+DGG28M//73v736dRwINCiQqr8FwAYPy5RbEgCn1DYXgWGBoacDGzeN9957DxkBApULpOpvAbDyg5F7+QJg7gqYv3eBFK+Geje1fwKlCKTsbwGwlCpXug4BsNLCWXYTAsePHw9Hjx6d2cuxY8fCkSNHmtijTRDoVSB1fwuAvZ6skfYtAI4EaRgCSwikfDqwxHJcQoDAiAKp+1sAHLFYPQ4lAPZYdXsuQeB73/te+M1vfjOzFH/xo4TqWAOBOIEp+lsAjKtR91cLgN0fAQCZBIaeDtx+++3hL3/5S6YVmZYAgbEEpuhvAXCsanU6jgDYaeFtO6tA6ldDWTdncgKdC0zV3wJg5wctdvsCYKyg6wksJnD48OFw8uTJmYvW19fDysrKYoP5NAECRQlM2d8CYFGlr28xAmB9NbPiugWmejpQt5LVE6hTYMr+FgDrPCPFrFoALKYUFtKBwNe//vXwt7/9bWanfvGjg+LbYvMCU/e3ANj8kUq7QQEwra/RCXwqsLa2FlZXV2dAHnzwwfDMM8+AIkCgYoEc/S0AVnxgSli6AFhCFayhB4EpXw314GmPBEoSyNHfAmBJJ6DCtQiAFRbNkqsTePrpp8Mjjzzi1W91lbNgAtsL5OpvAXD72vjEFgICoONBIL3A0NOBm266Kbz77rvpJzcDAQJJBXL1twCYtKztDy4Atl9jO8wrkOPVUN4dm51APwI5+1sA7OecJdmpAJiE1aAEPhbY7NXQ2bNnw969eykRIFCxQO7+FgArPjwlLF0ALKEK1tCqQM6nA62a2heBUgRy97cAWMpJqHQdAmClhbPs4gV+8IMfhF//+tcz6/Sdf8WXzgIJbCtQQn8LgNuWyQe2EhAAnQ8CaQSGng7ceuut4fXXX08zoVEJEJhMoIT+FgAnK3ebEwmAbdbVrvIK5H41lHf3ZifQtkAp/S0Atn3Oku9OAExObIIOBYZuEH7xo8ODYMtNCpTS3wJgk8druk0JgNNZm6kPgVKeDvShbZcEphUoqb8FwGlr39xsAmBzJbWhjAL3339/eP7552dW4Bc/MhbF1ARGEiitvwXAkQrb6zACYK+Vt+8UAkNPB7797W+H3/3udymmMyYBAhMKlNbfAuCExW9xKgGwxaraUw6Bkl4N5di/OQm0LFBifwuALZ+4CfYmAE6AbIrmBdbW1sLq6urMPp966qnw8MMPN79/GyTQskCp/S0AtnzqJtibADgBsimaFyjx6UDz6DZIYCKBUvtbAJzoALQ6jQDYamXtayqB2267Lbzxxhsz0/nFj6kqYB4C6QRK7m8BMF3duxhZAOyizDaZUGDo6cCxY8fCkSNHEs5qaAIEphAoub8FwClOQMNzCIANF9fWkgtcf/314YMPPvD0L7m0CQhML1B6fwuA05+JpmYUAJsqp81MKLDZD4afOHEiHDp0aMKVmIoAgbEFauhvAXDsqnc2ngDYWcFtdzSBUn8wfLQNGohAxwI19LcA2PEBHWPrAuAYisboTeCOO+4Ir732mle/vRXefrsQqKW/BcAujmO6TQqA6WyN3K7A0NOBr3zlK+Hvf/97u5u2MwKdCNTS3wJgJwcy1TYFwFSyxm1VoIZXQ63a2xeB1AI19bcAmPo0ND6+ANh4gW1vVIHjx4+Ho0ePzox5/vz5sGfPnlHnMhgBAtMK1NbfAuC056O52QTA5kpqQwkFhp4OrKyshPX19YSzGpoAgSkEautvAXCKU9HwHAJgw8W1tVEFHnjggXD69OmZMf3Fj1GZDUYgi0CN/S0AZjkq7UwqALZTSztJKzD0dODgwYPh1KlTaSc2OgECyQVq7G8BMPmxaHsCAbDt+trdOAI1/WD4ODs2CoF+BGrtbwGwnzOaZKcCYBJWgzYmMHSD8Oq3sSLbTrcCtfa3ANjtkR1n4wLgOI5GaVeg1qcD7VbEzgiMJ1BzfwuA452DLkcSALssu03PKfDQQw+FZ599dubTnv7NCehjBAoWqL2/BcCCD1cNSxMAa6iSNeYSGHo6cODAgfDcc8/lWpJ5CRAYSaD2/hYARzoIvQ4jAPZaefveTqDmV0Pb7c1/J9C7QAv9LQD2fooj9y8ARgK6vEmBCxcuhN27d8/s7cSJE+HQoUNN7tmmCPQi0Ep/C4C9nNhE+xQAE8EatmqBoacDG//uo48+qnpfFk+AQAit9LcA6DRHCQiAUXwublDgrrvuCq+++urMzvziR4PFtqXuBFrqbwGwu+M77oYFwHE9jVa/wNDTgWPHjoUjR47Uvzk7INC5QEv9LQB2fphjty8Axgq6viWB6667Lnz44Yee/rVUVHshcEWgtf4WAB3tKAEBMIrPxQ0JnDlzJmx8xcvn/zl//nzYs2dPQzu1FQL9CbTY3wJgf+d41B0LgKNyGqxigaFXQ7feemt4/fXXK96VpRMgsCHQYn8LgM52lIAAGMXn4kYEdu7cGS5evOjVbyP1tA0CnxVotb8FQOc8SkAAjOJzcSMCQ08H7r333vDCCy80skPbINCvQKv9LQD2e6ZH2bkAOAqjQSoWaOEvAlTMb+kEkgq03N8CYNKj0/7gAmD7NbbDzQXOnTsX9u3bN/MBv/jh1BCoX6D1/hYA6z+jWXcgAGblN3lmgRZ/MDwzqekJFCPQen8LgMUctToXIgDWWTerjhd44oknwmOPPTYzkL/4EW9rBAK5BXrobwEw9ymrfH4BsPICWv7SAkNPBw4dOhROnDix9JguJECgDIEe+lsALOOsVbsKAbDa0ll4hEDLPxgeweJSAk0I9NLfAmATxzXfJgTAfPZmziNw/PjxcPToUa9+8/CblUBSgZ76WwBMepTaH1wAbL/Gdni1wNDTgY1/99FHH6EiQKBygZ76WwCs/LDmXr4AmLsC5p9S4L777gsvvviip39TopuLwEQCvfW3ADjRwWp1GgGw1cra15DA0NOBjV/62PjlD/8QIFC3QG/9LQDWfV6zr14AzF4CC5hIoJcfDJ+I0zQEihLosb8FwKKOYH2LEQDrq5kVLy6w2V8E8J1/i1u6gkBpAr32twBY2kmsbD0CYGUFs9ylBIaeDtxyyy3hzTffXGo8FxEgUI5Ar/0tAJZzBqtciQBYZdksegGB2267LbzxxhszV3j6twCijxIoVKDn/hYACz2UtSxLAKylUta5rMDQ04GzZ8+GvXv3Ljuk6wgQKESg5/4WAAs5hLUuQwCstXLWPY9Ajz8YPo+LzxBoQaD3/hYAWzjFGfcgAGbEN3VSgQsXLoTdu3fPzLG+vh5WVlaSzm1wAgTSCujvEATAtGes+dEFwOZL3O0Gh54O3HrrreH111/v1sTGCbQioL8FwGtaOcy59iEA5pI3b0qBr3/96+Fvf/vbzBR+8SOlurEJTCOgvz9x9gRwmvPW7CwCYLOl7XpjQ08Hzp8/H/bs2dO1i80TaEFAfwuAHwfgFg5zzj0IgDn1zZ1CoPcfDE9hakwCpQjo7/9WwhPAUk5lpesQACstnGUPCpw5cyYcOHBg5r959evAEKhfQH9fXUMBsP4znXUHAmBWfpOPLDD0dODQoUPhxIkTI89kOAIEphbQ3wLgZwW8Ao7sQAEwEtDlxQjs2LEjDD3p8/SvmBJZCIGlBfT3LJ0ngEsfJxduCAiAzkErAkNPB06fPh3279/fyhbtg0C3AvpbAPy8gCeAkf9zIABGArq8CAE/GF5EGSyCQBIB/T3M6glgkuPWz6ACYD+1bnWnP/jBD8Kvf/3rme159dtqxe2rJwH9vXm1BcCeOiHBXgXABKiGnFRg6OnAxi99bPzyh38IEKhbQH8LgJsJeAUc2dsCYCSgy7MK3HHHHeG1117z9C9rFUxOII2A/t7a1RPANOeum1EFwG5K3eRGh54OrK+vh5WVlSb3a1MEehLQ3wLgVgKeAEb+r4EAGAno8mwCQzeHjeC3EQD9Q4BA3QL6e/v6eQK4vZFPbCEgADoeNQr4iwA1Vs2aCcwnoL/ncxIA53PyqU0EBEBHo0aBoacDP/zhD8Mvf/nLGrdjzQQIfEZAf893HATA+Zx8SgB0BhoRuP7668MHH3wwsxtf+9JIgW2jawH9PX/5BcD5rXxyQMATQMeiJoFz586Fffv2CX81Fc1aCcwpoL/nhLryMQFwMS+f/pyAAOhI1CTgLwLUVC1rJbCYgP5e2KvrX4TtevOLHZXhTwuAYygaYwqBhx56KDz77LOe/k2BbQ4CEwvo78XBPQFc3MwVnxEQAB2HWgT8RYBaKmWdBBYX0N9LmXX9EKzrzS9+XGavEADHUDRGagGvhlILG59APgH9vZy9J4DLubnqioAA6CjUIDB0g/BbvzVUzhoJbC+gv7c3GvqEALicm6sEQGegEoGhm8MNN9wQ3n///Up2YJkECGwmoL+XPxsC4PJ2rgwheALoGJQscNddd4VXX311Zome/pVcNWsjMJ+A/p7PaYvw3PWPwXW9+bij88nVAuAYisZIJeCPwaeSNS6B/AL6O64GngDG+XV/tQDY/REoFsAPhhdbGgsjEC2gv6MJgwAYb9j1CAJg1+UvdvP+GHyxpbEwAtEC+jua8OMBBMBxHLsdRQDstvRFb3zo6cCePXvC+fPni163xREgsL2A/t7eaJ5PCIDzKPnMpgICoMNRmsDOnTvDxYsXZ5blFz9Kq5T1EFhcQH8vbrbZFQLgeJZdjiQAdln2ojftB8OLLo/FEYgS0N9RfFddLACOZ9nlSAJgl2UvdtN+MLzY0lgYgWgB/R1NKAB+RsDXwESeJwEwEtDlowk88cQT4bHHHvPqdzRRAxEoR0B/j18LTwDHN+1qRAGwq3IXvdmhpwMPPvhgeOaZZ4pet8URILC9gP7e3mjRTwiAi4r5/FUCAqADUYKAV0MlVMEaCKQR0N/JXLt+C9r15sc4UgLgGIrGiBUYukGcPXs27N27N3Zo1xMgkFlAf6cpgCeAaVy7GVUA7KbUxW506OZw/fXXh3//+9/FrtnCCBCYT0B/z+e0zKcEwGXUXPN/AgKgw5BT4L777gsvvvjizBJ851/OqpibwDgC+nscx81GEQDT+jY/ugDYfImL3qBXQ0WXx+IIRAno7yi+bS8WALcl8oGtBARA5yOXwI033jj4mtfTv1wVMS+B8QT093iWngAOC/glkMgzJgBGArp8KYFz586Fffv2zVwr/C3F6SICRQno72nK4QngNM7NziIANlvaojc29Gro7rvvDi+//HLR67Y4AgS2F9Df2xuN8QkBcAzFjscQADsufqat33TTTeG9997z9C+Tv2kJpBTQ3yl1rx5bAJzOusmZBMAmy1r0poaeDhw7diwcOXKk6HVbHAEC2wvo7+2NxvqEADiWZKfjCICdFj7Ttv1FgEzwpiUwgYD+ngD5M1MIgNN6NzebANhcSYvd0E9/+tPw+OOPe/VbbIUsjMDyAvp7ebtlrxQAl5Vz3ccCAqCDMJXA0NOB06dPh/3790+1BPMQIJBIQH8ngt1iWAFwevOmZhQAmypnsZu56667wquvvurpX7EVsjACywvo7+XtYq4UAGP0XOsJoDMwicDQ0wHf+TcJvUkIJBfQ38mJBycQAPO4NzOrJ4DNlLLYjQzdHL71rW+FP/zhD8Wu2cIIEJhPQH/P55TiUwJgCtWOxhQAOyp2hq1+85vfDH/84x+9+s1gb0oCqQX0d2rhrccXAPP6Vz+7AFh9CYvegB8ML7o8FkcgSkB/R/FFXywARhP2PYAA2Hf9U+7+2muvDZcuXfL0LyWysQlkEtDfmeA/M60AmL8GVa9AAKy6fMUu3h+DL7Y0FkYgWkB/RxOOMoAAOApjv4MIgP3WPuXOvRpKqWtsAnkF9Hde/09nFwDLqEO1qxAAqy1dsQt/6KGHwrPPPuvVb7EVsjACywvo7+Xtxr5SABxbtLPxBMDOCj7Bdn0n2ATIpiCQSUB/Z4IfmFYALKcWVa5EAKyybMUueujm8I1vfCP86U9/KnbNFkaAwHwC+ns+p6k+JQBOJd3oPAJgo4XNtC1PBzLBm5bABAL6ewLkBaYQABfA8tFZAQHQqRhLYOjm8JOf/CT87Gc/G2sK4xAgkElAf2eC32JaAbC8mlS1IgGwqnIVu9jbbrstvPHGGzPr8/d+iy2ZhRGYW0B/z0016QcFwEm525tMAGyvplPv6MKFC2H37t3C39Tw5iMwgYD+ngB5ySkEwCXhXPaJgADoJMQKDL0a2rVrV3jrrbdih3Y9AQKZBfR35gJsMb0AWG5tqliZAFhFmYpd5MmTJ8Phw4c9/Su2QhZGYHkB/b283RRXCoBTKDc8hwDYcHEn2NrQ04H19fWwsrIyweymIEAgpYD+TqkbP7YAGG/Y9QgCYNflj9r80M3h5ptvDm+//XbUuC4mQCC/gP7OX4PtViAAbifkv28pIAA6IMsK+E6wZeVcR6B8Af1dRY2uKX+V6VbY9ebHYBUAx1Dsb4yhm8OhQ4fCiRMn+sOwYwKNCejvOgrqCWAddSp2lQJgsaUpdmG+E6zY0lgYgWgB/R1NONkAAuBk1G1OJAC2WdeUu/JqKKWusQnkFdDfef0XmV0AXETLZ2cEBECHYhGBoZvDjh07wqVLlxYZxmcJEChQQH8XWJQtliQA1lWv4lYrABZXkmIX9NOf/jQ8/vjjQ/8notg1WxgBAvMJ6O/5nEr6lABYUjUqXIsAWGHRMi156OnA2bNnw969ezOtyLQECIwloL/HkpxuHAFwOusmZxIAmyzr6Jsaujlce+214YMPPhh9LgMSIDCtgP6e1nus2QTAsSQ7HUcA7LTwC27bD4YvCObjBCoS0N8VFeszSxUA66xbMasWAIspRbEL8Z1gxZbGwghEC+jvaMJsAwiA2ejbmFgAbKOOqXbhO8FSyRqXQH4B/Z2/BjErEABj9FwbBECHYCsBr4acDwLtCujvumsrANZdv+yrFwCzl6DYBQzdHK677rrwn//8p9g1WxgBAvMJ6O/5nEr+lABYcnUqWJsAWEGRMizx5MmT4fDhwzMzX758OcNqTEmAwJgC+ntMzXxjCYD57JuYWQBsooyjb8KrodFJDUigGAH9XUwpohYiAEbxuVgAdAY+LzB0c/jSl74U/vnPf8IiQKByAf1deQE/s3wBsJ1aZtmJAJiFvehJPR0oujwWRyBKQH9H8RV1sQBYVDnqW4wAWF/NUq546Obwk5/8JPzsZz9LOa2xCRCYQEB/T4A84RQC4ITYLU4lALZY1eX2dN9994UXX3xx5mK/+LGcp6sIlCSgv0uqxjhrEQDHcex2FAGw29LPbNyrIWeBQLsC+ru92gqA7dV00h0JgJNyFzvZ0M3h5ptvDm+//Xaxa7YwAgTmE9Df8znV9ikBsLaKFbZeAbCwgmRYzrlz58K+ffu8+s1gb0oCqQX0d2rhfOMLgPnsm5hZAGyijFGb8Goois/FBIoW0N9FlydqcQJgFJ+LBcC+z4DvBOu7/nbftoD+br6+17S9w6131/Xmxyi8ADiGYr1jeDpQb+2snMB2Avp7O6G6/7sngHXXL/vqBcDsJci2gKGbww9/+MPwy1/+MtuaTEyAwDgC+nscx5JHEQBLrk4FaxMAKyhSgiXu3LkzXLx4cWZk3/mXANuQBCYW0N8Tg2eaTgDMBN/KtAJgK5Wcfx9ra2thdXVV+JufzCcJVCOgv6spVfRCBcBowr4HEAD7q//Qq6GNJwbvvPNOfxh2TKAxAf3dWEG32I4A2E+tk+xUAEzCWuygjz76aHjyySc9/Su2QhZGYHkB/b28XY1XCoA1Vq2gNQuABRVjgqX4rcAJkE1BIJOA/s4En2laATATfCvTCoCtVHL7fQzdHG6//fbwl7/8ZfuLfYIAgaIF9HfR5UmyOAEwCWs/gwqA/dTa04F+am2n/Qno7y5r3vV3IXe9+TGOuwA4hmL5YwzdHM6ePRv27t1b/uKtkACBLQX0d58HxBPAPus+2q4FwNEoix3o5ptvDu++++7M+nznX7ElszACcwvo77mpmvugANhcSafdkAA4rXeO2bwayqFuTgLTCOjvaZxLnEUALLEqFa1JAKyoWEssdejmcPDgwXDq1KklRnMJAQIlCejvkqox/VoEwOnNm5pRAGyqnFdtxneCtVtbOyOgv50BAdAZiBIQAKP4ir7Yq6Giy2NxBKIE9HcUXxMXC4BNlDHfJgTAfPYpZx66OVx77bXhgw8+SDmtsQkQmEBAf0+AXMEUAmAFRSp5iQJgydVZfm2eDixv50oCpQvo79IrNM36BMBpnJudRQBsr7RDN4f19fWwsrLS3mbtiEBnAvq7s4JvsV0B0FmIEhAAo/iKu3jo5nDLLbeEN998s7i1WhABAosJ6O/FvFr/tADYeoUT708ATAw88fBeDU0MbjoCEwro7wmxK5hKAKygSCUvUQAsuTqLrW3o5vCjH/0o/OIXv1hsIJ8mQKA4Af1dXEmyL0gAzF6CuhcgANZdv09X/z//8z/hz3/+88xm/Lm3NuprF30L6O++67/Z7gVA5yJKQACM4ivmYq+GiimFhRAYXUB/j07axIACYAK16VgAABgkSURBVBNlzLcJATCf/Vgz+8HwsSSNQ6A8Af1dXk1KWZEAWEolKl2HAFhp4a4s++TJk+Hw4cNe/dZdRqsnMCigvx2MrQQEQOcjSkAAjOLLfrFXQ9lLYAEEkgno72S0TQwsADZRxnybEADz2cfOPHRzuPXWW8Prr78eO7TrCRDILKC/MxeggukFwAqKVPISBcCSq7P12jwdqLd2Vk5gOwH9vZ2Q/y4AOgNRAgJgFF+2i4duDj//+c/Dj3/842xrMjEBAuMI6O9xHFsfRQBsvcKJ9ycAJgZOMPxNN90U3nvvvZmRfedfAmxDEphYQH9PDF7xdAJgxcUrYekCYAlVmH8Na2trYXV1Vfibn8wnCVQjoL+rKVURCxUAiyhDvYsQAOuq3dCroYMHD4ZTp07VtRGrJUBgRkB/OxSLCAiAi2j57NCTo8tY6hB46KGHwrPPPuvpXx3lskoCCwno74W4fDiEIAA6BlECngBG8U16sd8KnJTbZAQmFdDfk3I3MZkA2EQZ821CAMxnv8jMQzeH06dPh/379y8yjM8SIFCggP4usCgVLEkArKBIJS9RACy5Op+szQ+Gl18jKySwrID+XlbOdQKgMxAlIABG8U1ysVdDkzCbhEAWAf2dhb2JSQXAJsqYbxMCYD77eWYeujnce++94YUXXpjncp8hQKBgAf1dcHEqWJoAWEGRSl6iAFhudU6ePBkOHz48s0Bf+FxuzayMwLwC+nteKZ/bTEAAdDaiBATAKL6kFw89HTh79mzYu3dv0nkNToBAegH9nd649RkEwNYrnHh/AmBi4CWH/+Y3vxn++Mc/XnX1F77whfDhhx8uOaLLCBAoRUB/l1KJutchANZdv+yrFwCzl2BwAX4wvMy6WBWBMQT09xiKxhAAnYEoAQEwii/JxUM3h/X19bCyspJkPoMSIDCdgP6ezrr1mQTA1iuceH8CYGLgBYc/fvx4OHr06MxVfvFjQUgfJ1CggP4usCgVL0kArLh4JSxdACyhCv9dg1dDZdXDagiMKaC/x9Q0lgDoDEQJCIBRfKNePHRzOHbsWDhy5Mio8xiMAIHpBfT39OatzygAtl7hxPsTABMDzzn8vn37wrlz57z6ndPLxwjUJKC/a6pWPWsVAOupVZErFQDLKItXQ2XUwSoIpBDQ3ylUjSkAOgNRAgJgFN8oFw/dHO6+++7w8ssvjzK+QQgQyCegv/PZtz6zANh6hRPvTwBMDLzN8E8//XR45JFHvPrNWwazE0gioL+TsBr0ioAA6ChECQiAUXzRF3s1FE1oAALFCujvYkvTxMIEwCbKmG8TAmA++y9+8Yvh7bff9vQvXwnMTCCZgP5ORmtgTwA/FrjGSYgTEADj/Ja9em1tLayurgp/ywK6jkDBAvq74OI0tDRPABsqZo6tCIA51EPw56DyuJuVwBQC+nsKZXMIgM5AlIAAGMW31MUPPPBAOH36tKd/S+m5iEDZAvq77Pq0tDoBsKVqZtiLADg9uh8Mn97cjASmEtDfU0mbRwB0BqIEBMAovoUvHro5bDwN3L9//8JjuYAAgbIE9HdZ9Wh9NQJg6xVOvD8BMDHwZ4b/6le/Gv7xj3949TsduZkITCagvyejNtEVAQHQUYgSEACj+Ba62Kuhhbh8mEBVAvq7qnI1sVgBsIky5tuEADiN/dDN4fvf/3741a9+Nc0CzEKAQDIB/Z2M1sBbCAiAjkeUgAAYxTfXxY8++mh48sknZz57+fLlua73IQIEyhXQ3+XWpvWVCYCtVzjx/gTAxMAb31Z+zez3lQt/6d3NQGAKAf09hbI5hgQEQOciSkAAjOLb9uIdO3aEz4e9r33ta+Gvf/3rttf6AAECZQvo77Lr0/rqBMDWK5x4fwJgOuBz586Fffv2efWbjtjIBLIJ6O9s9Ca+IiAAOgpRAgJgFN+WF3s1lM7WyARyC+jv3BUwvwDoDEQJCIBRfJtePHRz2Piwn/1L421UAlMK6O8ptc21mYAA6GxECQiAUXwLBUDhL421UQlMLeDp39Ti5hsSEACdiygBATCKb/BiN4fxTY1IoBQB/V1KJaxDAHQGogQEwCi+mYuvu+668OGHH1717++9997wwgsvjDuR0QgQmFxAf09ObsItBARAxyNKQACM4pu52NOBcT2NRqAkAf1dUjWsRQB0BqIEBMAovqsuHro5rK+vh5WVlfEmMRIBAlkE9HcWdpN6AripwOyfWHBcFhIQABfi2vTD999/f3j++eev+u8bXxJ76dKlcSYwCgEC2QT0dzZ6EwuAAmCqLhAAx5H1amgcR6MQKFFAf5dYFWvyCtgZiBIQAKP4Pr546Obw1FNPhYcffjh+cCMQIJBVQH9n5Te5J4CeAKbqAgEwTvbpp58OjzzyyMwgvvMvztXVBEoQ0N8lVMEaNhPwBNDZiBIQAKP4Bp/+CX9xpq4mUIqAV7+lVMI6hgQEQOciSkAAXJ7PbwUub+dKAqUL6O/SK2R9AqAzECUgAC7Hd+HChbB7926vfpfjcxWBogX0d9HlsbgrAgKgoxAlIAAux+fV0HJuriJQg4D+rqFK1igAOgNRAgLg4nxDN4djx46FI0eOLD6YKwgQKEpAfxdVDovZQkAAdDyiBATAxfgeffTR8OSTT3r1uxibTxOoQkB/V1Emi/QK+GMBfwkkshUEwMUAvRpazMunCdQkoL9rqpa1egLoDEQJCIDz8w3dHB588MHwzDPPzD+ITxIgUKSA/i6yLBblFfCmAp4ARraHADgf4JkzZ8KBAwe8+p2Py6cIVCWgv6sql8V6BewV8BhdIADOp+jV0HxOPkWgRgH9XWPVrNkrYGcgSkAA3J7vuuuuCx9++OFVH7zzzjvDK6+8sv3FPkGAQNEC+rvo8licV8BeAafqAgFwe1lPB7Y38gkCtQro71orZ92eADoDUQIC4NZ8bg5Rx8vFBIoW0N9Fl8fithEQAB2RKAEBcHO+oZvDDTfcEN5///0ocxcTIJBfQH/nr4EVxAkIgHF+3V8tAC4WAC9fvtz9mQFAoAUBT/9aqGLfexAA+65/9O4FwGFCN4foo2UAAsUK6O9iS2NhCwgIgAtg+eisgAA4azJ0czh48GA4deqUI0SAQOUC+rvyAlr+/wkIgA5DlIAAOF8A9Oo36pi5mEAxAp7+FVMKC4kUEAAjAXu/XAC8+gS4OfTeEfbfsoD+brm6/e1NAOyv5qPuWAD8L+fQzcEXPo963AxGIJuA/s5Gb+JEAgJgIthehhUAtw6AXv320gn22bqAp3+tV7i//QmA/dV81B0LgJ9wDt0c1tfXw8rKyqjeBiNAYHoB/T29uRnTCwiA6Y2bnkEADGHnzp3h4sWLV9X5pptuCu+++27Ttbc5Aj0I6O8eqtznHgXAPus+2q4FwOGnf179jnbEDEQgq4BXv1n5TZ5QQABMiNvD0L0HwKGbw+nTp8P+/ft7KL89EmhaQH83Xd7uNycAdn8E4gB6DoB33HFHeO2112YAPf2LO1OuJlCCgP4uoQrWkFJAAEyp28HYPQdAr4Y6OOC22K2A/u629N1sXADsptRpNtprAHRzSHOejEqgBAH9XUIVrCG1gACYWrjx8XsMgPfcc0946aWXvPpt/GzbXp8C+rvPuve4awGwx6qPuOceA6CnAyMeIEMRKExAfxdWEMtJJiAAJqPtY+DeAqCbQx/n2i77FNDffda9110LgL1WfqR99xQAh24OG4x+63ekw2QYAhkF9HdGfFNnERAAs7C3M2nvAVD4a+cs20nfAp7+9V3/HncvAPZY9RH33EsAdHMY8dAYikBhAvq7sIJYziQCAuAkzO1O0kMAHLo5rKyshPX19XYLa2cEOhHQ350U2jZnBARAhyJKoNcA6NVv1LFxMYFiBDz9K6YUFjKxgAA4MXhr07UeAN0cWjux9kPgvwL622noWUAA7Ln6I+y95QB47bXXhkuXLl2l9JWvfCX8/e9/H0HOEAQI5BTQ3zn1zV2CgABYQhUqXkOrAXBtbS2srq7OVMar34oPq6UTuCKgvx0FAiEIgE5BlECrAdCroahj4WICRQvo76LLY3ETCQiAE0G3Ok2LAfDmm28O77777lUl27VrV3jrrbdaLaN9EehGQH93U2ob3UZAAHREogRaDICeDkQdCRcTKFpAfxddHoubUEAAnBC7xalaC4BuDi2eUnsi8ImA/nYSCPxXQAB0GqIEWgqAX/7yl8O//vWvqzx84XPU8XAxgWIE9HcxpbCQQgQEwEIKUesyWgqAng7Uegqtm8D2Avp7eyOf6EtAAOyr3qPvtpUA6OYw+tEwIIFiBPR3MaWwkIIEBMCCilHjUloIgEM3B1/4XONptGYCswL626kgMCwgADoZUQKtBkBf+Bx1LFxMoBgBT/+KKYWFFCYgABZWkNqWU3sAdHOo7cRZL4H5BfT3/FY+2Z+AANhfzUfdcc0B0M1h1KNgMAJFCejvosphMQUKCIAFFqWmJQmANVXLWgn0IyAA9lNrO11OQABczs1VVwRqDYBuDo4wgXYF9He7tbWz8QQEwPEsuxypxgDo5tDlUbXpTgT0dyeFts1oAQEwmrDvAWoLgPfff394/vnnZ4rmt377Psd234aA/m6jjnYxjYAAOI1zs7PUFgA9HWj2KNoYAX/r1xkgsICAALgAlo/OCtQUAIU/J5hAuwL6u93a2lkaAQEwjWs3o9YSAFdXV8Pa2tpVddm1a1d46623uqmVjRJoVUB/t1pZ+0opIACm1O1g7FoCoKcDHRxGW+xWQH93W3objxAQACPwXBpCDQHQzcFJJdCugP5ut7Z2llZAAEzr2/zopQfAL37xi+Htt9++qg533nlneOWVV5qvjQ0SaF1Af7deYftLKSAAptTtYOzSA6CnAx0cQlvsVkB/d1t6Gx9BQAAcAbHnIUoOgG4OPZ9Me29dQH+3XmH7Sy0gAKYWbnz8UgPg0M3h0KFD4cSJE41XxPYItC+gv9uvsR2mFxAA0xs3PUNNAdBf+2j6KNpcRwKe/nVUbFtNJiAAJqPtY+ASA6CbQx9nzy77FNDffdbdrscXEADHN+1qxNIC4NDN4Uc/+lH4xS9+0VVdbJZAiwL6u8Wq2lMuAQEwl3wj85YUAJ944onw2GOPzch69dvIYbONrgX0d9flt/kEAgJgAtSehiwpAHo11NPJs9feBPR3bxW339QCAmBq4cbHLyUADt0cjh07Fo4cOdJ4BWyPQPsC+rv9Gtvh9AIC4PTmTc1YQgC85557wksvveTVb1Mny2YIfCKgv50EAmkEBMA0rt2MWkIA9Gqom+Nmox0K6O8Oi27LkwgIgJMwtztJ7gA4dHNYX18PKysr7aLbGYFOBPR3J4W2zSwCAmAW9nYmzRkAd+3aFd55552rMG+88cbw3nvvtQNsJwQ6FdDfnRbeticTEAAno25zopwB0KuhNs+UXRHYENDfzgGBtAICYFrf5kfPFQDdHJo/WjbYsYD+7rj4tj6ZgAA4GXWbE+UIgEM3h+9+97vht7/9bZvIdkWgIwH93VGxbTWrgACYlb/+yacOgGfOnAkHDhyYgfPXPuo/S3ZAQH87AwSmExAAp7NucqapA6BXQ00eI5si8LGA/nYQCEwnIABOZ93kTFMGQDeHJo+QTREQ/pwBAhkEBMAM6C1NOVUA/M53vhN+//vfe/Xb0uGxFwJXBPS3o0BgegEBcHrzpmacKgB6+tfUsbEZAlcJ6G8HgsD0AgLg9OZNzThFAHRzaOrI2AwB4c8ZIFCAgABYQBFqXkLqADgU/u6+++7w8ssv18xm7QQIbPJLH/rb0SAwjYAAOI1zs7PkCIC+8qXZ42RjnQl4ut9ZwW23KAEBsKhy1LeYlAHQzaG+82DFBOYV0N/zSvkcgTQCAmAa125GTRUAh24Op0+fDvv37+/G1kYJtCqgv1utrH3VJCAA1lStAteaIgDec8894aWXXprZrVe/BR4ASyKwoID+XhDMxwkkEhAAE8H2MmyKAOjVUC+nxz57FNDfPVbdnksUEABLrEpFaxo7ALo5VFR8SyWwoID+XhDMxwkkFBAAE+L2MPSYAXDo5nDvvfeGF154oQdKeyTQtID+brq8NlehgABYYdFKWvJYAfD48ePh6NGjM1vzc38lVdtaCCwnoL+Xc3MVgZQCAmBK3Q7GHisAejXUwWGxxW4F9He3pbfxggUEwIKLU8PSxgiAQzeH8+fPhz179tRAYI0ECGwhoL8dDwJlCgiAZdalmlXFBsCdO3eGixcvXrXfHTt2hEuXLlVjYKEECAwL6G8ng0C5AgJgubWpYmWxAdCroSrKbJEElhLQ30uxuYjAJAIC4CTM7U4SEwDdHNo9F3ZGQH87AwTKFhAAy65P8atbNgD6uaDiS2uBBJYW0N9L07mQwGQCAuBk1G1OtEwA9Keg2jwLdkVgQ0B/OwcE6hAQAOuoU7GrXCYAejVUbDktjEC0gP6OJjQAgUkEBMBJmNudZNEA6ObQ7lmwMwL62xkgUI+AAFhPrYpc6SIBcOjmcODAgfDcc88VuTeLIkBgfgH9Pb+VTxIoQUAALKEKFa9h3gD4wAMPhNOnT8/s1J96q7j4lk7gioD+dhQI1CcgANZXs6JWPG8A9GqoqLJZDIFRBfT3qJwGIzCJgAA4CXO7k8wTAN0c2q2/nRHQ384AgToFBMA661bMqrcLgEM3hzvvvDO88sorxezBQggQWE5Afy/n5ioCJQgIgCVUoeI1LBMA/dxfxQW3dAKfEfD0z3EgUK+AAFhv7YpY+VYB0M2hiBJZBIEkAvo7CatBCUwmIABORt3mRJsFQDeHNuttVwQ2BPS3c0CgfgEBsP4aZt3BUAAcujlsLNKr36ylMjmBUQT09yiMBiGQXUAAzF6CuhcwbwAU/uqus9UT+FTA0z9ngUAbAgJgG3XMtovPB0A3h2ylMDGB5AL6OzmxCQhMJiAATkbd5kSfDYBuDm3W2K4IbAjob+eAQFsCAmBb9Zx8N58GwNXV1bC2tjYzv1e/k5fEhARGF9Dfo5MakEB2AQEwewnqXsCnAdDTgbrraPUEthLQ384HgfYEBMD2ajrpjjYCoJvDpOQmIzCpgP6elNtkBCYTEAAno252osuf39mBAwfCc8891+yGbYxALwJD4U9/91J9+2xdQABsvcLp9zcTAP3cX3p0MxBILbBz585w8eLFmWn0d2p54xOYRkAAnMa55VmuCoBuDi2X2t56EvDqt6dq22uPAgJgj1Ufd8+fBsD3Qwj/b9yhjUaAQEaBSyGEHVfm198ZC2FqAgTGF7hm/CGNSIAAAQIECBAgULKAAFhydayNAAECBAgQIJBAQABMgGpIAgQIECBAgEDJAgJgydWxNgIECBAgQIBAAgEBMAGqIQkQIECAAAECJQsIgCVXx9oIECBAgAABAgkEBMAEqIYkQIAAAQIECJQsIACWXB1rI0CAAAECBAgkEBAAE6AakgABAgQIECBQsoAAWHJ1rI0AAQIECBAgkEBAAEyAakgCBAgQIECAQMkCAmDJ1bE2AgQIECBAgEACAQEwAaohCRAgQIAAAQIlCwiAJVfH2ggQIECAAAECCQQEwASohiRAgAABAgQIlCwgAJZcHWsjQIAAAQIECCQQEAAToBqSAAECBAgQIFCygABYcnWsjQABAgQIECCQQEAATIBqSAIECBAgQIBAyQICYMnVsTYCBAgQIECAQAIBATABqiEJECBAgAABAiULCIAlV8faCBAgQIAAAQIJBATABKiGJECAAAECBAiULCAAllwdayNAgAABAgQIJBAQABOgGpIAAQIECBAgULKAAFhydayNAAECBAgQIJBAQABMgGpIAgQIECBAgEDJAgJgydWxNgIECBAgQIBAAgEBMAGqIQkQIECAAAECJQsIgCVXx9oIECBAgAABAgkEBMAEqIYkQIAAAQIECJQsIACWXB1rI0CAAAECBAgkEBAAE6AakgABAgQIECBQsoAAWHJ1rI0AAQIECBAgkEBAAEyAakgCBAgQIECAQMkCAmDJ1bE2AgQIECBAgEACAQEwAaohCRAgQIAAAQIlCwiAJVfH2ggQIECAAAECCQQEwASohiRAgAABAgQIlCwgAJZcHWsjQIAAAQIECCQQEAAToBqSAAECBAgQIFCygABYcnWsjQABAgQIECCQQEAATIBqSAIECBAgQIBAyQICYMnVsTYCBAgQIECAQAIBATABqiEJECBAgAABAiULCIAlV8faCBAgQIAAAQIJBATABKiGJECAAAECBAiULPC/H7fo4KwHBTQAAAAASUVORK5CYII=\">"
      ],
      "text/plain": [
       "<IPython.core.display.HTML object>"
      ]
     },
     "metadata": {},
     "output_type": "execute_result"
    },
    {
     "data": {
      "text/plain": [
       "<matplotlib.axes._subplots.AxesSubplot at 0x11ea05d50>"
      ]
     },
     "execution_count": 19,
     "metadata": {},
     "output_type": "execute_result"
    }
   ],
   "source": [
    "%matplotlib nbagg\n",
    "\n",
    "plot_coo_matrix(A)"
   ]
  },
  {
   "cell_type": "code",
   "execution_count": null,
   "metadata": {
    "collapsed": true
   },
   "outputs": [],
   "source": [
    ""
   ]
  }
 ],
 "metadata": {
  "celltoolbar": "Raw Cell Format",
  "kernelspec": {
   "display_name": "Python 2",
   "language": "python",
   "name": "python2"
  },
  "language_info": {
   "codemirror_mode": {
    "name": "ipython",
    "version": 2.0
   },
   "file_extension": ".py",
   "mimetype": "text/x-python",
   "name": "python",
   "nbconvert_exporter": "python",
   "pygments_lexer": "ipython2",
   "version": "2.7.11"
  }
 },
 "nbformat": 4,
 "nbformat_minor": 0
}