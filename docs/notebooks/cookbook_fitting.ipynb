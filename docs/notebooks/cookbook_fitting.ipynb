{
 "cells": [
  {
   "cell_type": "markdown",
   "metadata": {},
   "source": [
    "### Fitting XShooter data with xtool ###"
   ]
  },
  {
   "cell_type": "code",
   "execution_count": 1,
   "metadata": {
    "collapsed": false
   },
   "outputs": [],
   "source": [
    "from xtool.data import XShooterData, Order\n",
    "from xtool.model import OrderModel, VirtualPixelWavelength, GenericBackground, MoffatTrace, SlopedMoffatTrace\n",
    "\n",
    "from collections import OrderedDict\n",
    "from scipy import sparse\n",
    "from scipy import optimize\n",
    "import numpy as np"
   ]
  },
  {
   "cell_type": "markdown",
   "metadata": {},
   "source": [
    "#### Reading XShooter data ####"
   ]
  },
  {
   "cell_type": "code",
   "execution_count": 2,
   "metadata": {
    "collapsed": false
   },
   "outputs": [],
   "source": [
    "xd = XShooterData('xtool_ds/')"
   ]
  },
  {
   "cell_type": "code",
   "execution_count": 3,
   "metadata": {
    "collapsed": false
   },
   "outputs": [],
   "source": [
    "current_order = xd[17]\n",
    "current_order.enable_flags_as_mask() # important to update the data to include the bad pixels from the pipeline"
   ]
  },
  {
   "cell_type": "markdown",
   "metadata": {},
   "source": [
    "#### Generating a virtual pixel table for \"Wavelength\"-pixels ####"
   ]
  },
  {
   "cell_type": "code",
   "execution_count": 4,
   "metadata": {
    "collapsed": false
   },
   "outputs": [],
   "source": [
    "virt_pix = VirtualPixelWavelength.from_order(current_order, wavelength_sampling=0.03)\n",
    "pixel_table = virt_pix()"
   ]
  },
  {
   "cell_type": "markdown",
   "metadata": {
    "collapsed": false
   },
   "source": [
    "#### Initializing the two Models ####"
   ]
  },
  {
   "cell_type": "code",
   "execution_count": 5,
   "metadata": {
    "collapsed": false
   },
   "outputs": [],
   "source": [
    "background_mdl = GenericBackground(pixel_table, virt_pix.wavelength_pixels)\n",
    "trace_mdl = SlopedMoffatTrace(pixel_table, virt_pix.wavelength_pixels)"
   ]
  },
  {
   "cell_type": "code",
   "execution_count": 6,
   "metadata": {
    "collapsed": false
   },
   "outputs": [],
   "source": [
    "order_model = OrderModel([background_mdl, trace_mdl])"
   ]
  },
  {
   "cell_type": "markdown",
   "metadata": {},
   "source": [
    "#### Show fittable parameters ####"
   ]
  },
  {
   "cell_type": "code",
   "execution_count": 7,
   "metadata": {
    "collapsed": false
   },
   "outputs": [
    {
     "data": {
      "text/plain": [
       "<OrderModel(background_level=[    0.     0.  2023. ...,  2008.  2008.  2008.], amplitude=[ nan  nan  nan ...,  nan  nan  nan], trace_pos=0.0, trace_slope=0.0, sigma=1.0, beta=1.5 [f])>"
      ]
     },
     "execution_count": 7,
     "metadata": {},
     "output_type": "execute_result"
    }
   ],
   "source": [
    "order_model"
   ]
  },
  {
   "cell_type": "markdown",
   "metadata": {},
   "source": [
    "#### Initializing the fitter ####"
   ]
  },
  {
   "cell_type": "code",
   "execution_count": 8,
   "metadata": {
    "collapsed": false
   },
   "outputs": [],
   "source": [
    "from xtool.model.fitters import Fitter"
   ]
  },
  {
   "cell_type": "code",
   "execution_count": 9,
   "metadata": {
    "collapsed": true
   },
   "outputs": [],
   "source": [
    "fitter = Fitter(order_model, current_order)"
   ]
  },
  {
   "cell_type": "markdown",
   "metadata": {},
   "source": [
    "#### Differential Evolution fit ####\n",
    "\n",
    "Differential evolution is a very thorough but slow processs. It does not use starting values but moves within the bounds of the parameters. "
   ]
  },
  {
   "cell_type": "code",
   "execution_count": 31,
   "metadata": {
    "collapsed": false
   },
   "outputs": [
    {
     "name": "stdout",
     "output_type": "stream",
     "text": [
      "differential_evolution step 1: f(x)= 4.22785e+06\n",
      "differential_evolution step 2: f(x)= 4.22785e+06\n",
      "differential_evolution step 3: f(x)= 2.95083e+06\n",
      "differential_evolution step 4: f(x)= 2.95083e+06\n",
      "differential_evolution step 5: f(x)= 2.26008e+06\n",
      "differential_evolution step 6: f(x)= 2.26008e+06\n",
      "differential_evolution step 7: f(x)= 2.26008e+06\n",
      "differential_evolution step 8: f(x)= 2.26008e+06\n",
      "differential_evolution step 9: f(x)= 2.06608e+06\n",
      "differential_evolution step 10: f(x)= 2.06231e+06\n",
      "differential_evolution step 11: f(x)= 2.00095e+06\n",
      "differential_evolution step 12: f(x)= 1.96445e+06\n",
      "differential_evolution step 13: f(x)= 1.96445e+06\n",
      "differential_evolution step 14: f(x)= 1.96445e+06\n",
      "differential_evolution step 15: f(x)= 1.89723e+06\n",
      "differential_evolution step 16: f(x)= 1.89723e+06\n",
      "differential_evolution step 17: f(x)= 1.89723e+06\n",
      "differential_evolution step 18: f(x)= 1.89723e+06\n",
      "differential_evolution step 19: f(x)= 1.89654e+06\n",
      "differential_evolution step 20: f(x)= 1.89654e+06\n",
      "differential_evolution step 21: f(x)= 1.89654e+06\n",
      "Fit finished in 1475.61700892 s\n"
     ]
    }
   ],
   "source": [
    "order_model.beta.fixed = False\n",
    "dresult = fitter.fit_differential_evolution(disp=True)"
   ]
  },
  {
   "cell_type": "code",
   "execution_count": 32,
   "metadata": {
    "collapsed": false
   },
   "outputs": [
    {
     "data": {
      "text/plain": [
       "     fun: 1896544.4149950482\n",
       " message: 'Optimization terminated successfully.'\n",
       "    nfev: 1425\n",
       "     nit: 21\n",
       " success: True\n",
       "       x: array([-2.44188896, -0.26832235,  0.19794569,  2.0046534 ])"
      ]
     },
     "execution_count": 32,
     "metadata": {},
     "output_type": "execute_result"
    }
   ],
   "source": [
    "dresult"
   ]
  },
  {
   "cell_type": "markdown",
   "metadata": {},
   "source": [
    "#### Nelder Mead / Simplex ####\n",
    "\n",
    "This one is much faster algorithm that will use starting values, but is unbounded"
   ]
  },
  {
   "cell_type": "code",
   "execution_count": 10,
   "metadata": {
    "collapsed": false
   },
   "outputs": [
    {
     "name": "stderr",
     "output_type": "stream",
     "text": [
      "/Users/wkerzend/anaconda3/envs/xtool/lib/python2.7/site-packages/scipy/optimize/_minimize.py:394: RuntimeWarning: Method Nelder-Mead cannot handle constraints nor bounds.\n",
      "  RuntimeWarning)\n"
     ]
    },
    {
     "name": "stdout",
     "output_type": "stream",
     "text": [
      "Fit finished in 851.559898853 s\n"
     ]
    },
    {
     "name": "stderr",
     "output_type": "stream",
     "text": [
      "/Users/wkerzend/anaconda3/envs/xtool/lib/python2.7/site-packages/scipy/sparse/linalg/dsolve/linsolve.py:243: SparseEfficiencyWarning: splu requires CSC matrix format\n",
      "  warn('splu requires CSC matrix format', SparseEfficiencyWarning)\n",
      "/Users/wkerzend/anaconda3/envs/xtool/lib/python2.7/site-packages/scipy/sparse/linalg/dsolve/linsolve.py:161: SparseEfficiencyWarning: spsolve is more efficient when sparse b is in the CSC matrix format\n",
      "  'is in the CSC matrix format', SparseEfficiencyWarning)\n"
     ]
    }
   ],
   "source": [
    "order_model.trace_pos = -2\n",
    "order_model.sigma = 0.1\n",
    "order_model.trace_slope = 0.\n",
    "order_model.beta.fixed = False\n",
    "order_model.beta = 2.0\n",
    "result = fitter.fit_scipy_minimize('Nelder-Mead')"
   ]
  },
  {
   "cell_type": "code",
   "execution_count": 15,
   "metadata": {
    "collapsed": true
   },
   "outputs": [],
   "source": [
    "spec = order_model.model_list[1].to_spectrum()"
   ]
  },
  {
   "cell_type": "code",
   "execution_count": 19,
   "metadata": {
    "collapsed": false
   },
   "outputs": [
    {
     "name": "stdout",
     "output_type": "stream",
     "text": [
      "Populating the interactive namespace from numpy and matplotlib\n"
     ]
    },
    {
     "data": {
      "text/plain": [
       "[<matplotlib.lines.Line2D at 0x1231a7a50>]"
      ]
     },
     "execution_count": 19,
     "metadata": {},
     "output_type": "execute_result"
    },
    {
     "data": {
      "image/png": "[encoded data removed]",
      "text/plain": [
       "<matplotlib.figure.Figure at 0x12294d4d0>"
      ]
     },
     "metadata": {},
     "output_type": "display_data"
    }
   ],
   "source": [
    "%pylab inline\n",
    "plot(spec.wavelength, spec.flux)"
   ]
  },
  {
   "cell_type": "markdown",
   "metadata": {},
   "source": [
    "#### Plotting in DS9 ####"
   ]
  },
  {
   "cell_type": "code",
   "execution_count": 11,
   "metadata": {
    "collapsed": false
   },
   "outputs": [],
   "source": [
    "import pyds9"
   ]
  },
  {
   "cell_type": "code",
   "execution_count": 12,
   "metadata": {
    "collapsed": false
   },
   "outputs": [],
   "source": [
    "d = pyds9.DS9()"
   ]
  },
  {
   "cell_type": "code",
   "execution_count": 14,
   "metadata": {
    "collapsed": false
   },
   "outputs": [
    {
     "data": {
      "text/plain": [
       "1"
      ]
     },
     "execution_count": 14,
     "metadata": {},
     "output_type": "execute_result"
    }
   ],
   "source": [
    "order_model.trace_pos = result.x[0]\n",
    "order_model.trace_slope = result.x[1]\n",
    "order_model.sigma = result.x[2]\n",
    "order_model.beta = result.x[3]\n",
    "model = order_model.evaluate_to_frame(current_order, trace_pos=order_model.trace_pos, \n",
    "                                      trace_slope=order_model.trace_slope, sigma=order_model.sigma, \n",
    "                                      beta=order_model.beta.value)\n",
    "d.set('frame 1')\n",
    "d.set_np2arr(current_order.data.filled())\n",
    "\n",
    "d.set('frame 2')\n",
    "d.set_np2arr(model.filled())\n",
    "\n",
    "d.set('frame 3')\n",
    "d.set_np2arr((current_order.data.filled() - model.filled()) / current_order.uncertainty.filled())"
   ]
  },
  {
   "cell_type": "code",
   "execution_count": null,
   "metadata": {
    "collapsed": true
   },
   "outputs": [],
   "source": [
    ""
   ]
  }
 ],
 "metadata": {
  "celltoolbar": "Raw Cell Format",
  "kernelspec": {
   "display_name": "Python 2",
   "language": "python",
   "name": "python2"
  },
  "language_info": {
   "codemirror_mode": {
    "name": "ipython",
    "version": 2.0
   },
   "file_extension": ".py",
   "mimetype": "text/x-python",
   "name": "python",
   "nbconvert_exporter": "python",
   "pygments_lexer": "ipython2",
   "version": "2.7.11"
  }
 },
 "nbformat": 4,
 "nbformat_minor": 0
}