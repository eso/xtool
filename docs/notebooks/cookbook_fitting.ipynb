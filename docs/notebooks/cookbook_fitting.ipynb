{
 "cells": [
  {
   "cell_type": "markdown",
   "metadata": {},
   "source": [
    "### Fitting XShooter data with xtool ###"
   ]
  },
  {
   "cell_type": "code",
   "execution_count": 22,
   "metadata": {
    "collapsed": false
   },
   "outputs": [],
   "source": [
    "from xtool.data import XShooterData, Order\n",
    "from xtool.model import OrderModel, VirtualPixelWavelength, GenericBackground, MoffatTrace, SlopedMoffatTrace\n",
    "\n",
    "\n",
    "from scipy import sparse\n",
    "from scipy import optimize"
   ]
  },
  {
   "cell_type": "markdown",
   "metadata": {},
   "source": [
    "#### Reading XShooter data ####"
   ]
  },
  {
   "cell_type": "code",
   "execution_count": 23,
   "metadata": {
    "collapsed": false
   },
   "outputs": [],
   "source": [
    "xd = XShooterData('xtool_ds/')"
   ]
  },
  {
   "cell_type": "code",
   "execution_count": 24,
   "metadata": {
    "collapsed": false
   },
   "outputs": [],
   "source": [
    "current_order = xd[17]\n",
    "current_order.enable_flags_as_mask() # important to update the data to include the bad pixels from the pipeline"
   ]
  },
  {
   "cell_type": "markdown",
   "metadata": {},
   "source": [
    "#### Generating a virtual pixel table for \"Wavelength\"-pixels ####"
   ]
  },
  {
   "cell_type": "code",
   "execution_count": 25,
   "metadata": {
    "collapsed": false
   },
   "outputs": [],
   "source": [
    "virt_pix = VirtualPixelWavelength.from_order(current_order)\n",
    "pixel_table = virt_pix()"
   ]
  },
  {
   "cell_type": "markdown",
   "metadata": {
    "collapsed": false
   },
   "source": [
    "#### Initializing the two Models ####"
   ]
  },
  {
   "cell_type": "code",
   "execution_count": 26,
   "metadata": {
    "collapsed": false
   },
   "outputs": [],
   "source": [
    "background_mdl = GenericBackground(pixel_table, virt_pix.wavelength_pixels)\n",
    "#trace_mdl = MoffatTrace(pixel_table)\n",
    "trace_mdl = SlopedMoffatTrace(pixel_table, virt_pix.wavelength_pixels)"
   ]
  },
  {
   "cell_type": "code",
   "execution_count": 27,
   "metadata": {
    "collapsed": false
   },
   "outputs": [],
   "source": [
    "order_model = OrderModel([background_mdl, trace_mdl])"
   ]
  },
  {
   "cell_type": "markdown",
   "metadata": {},
   "source": [
    "#### Show fittable parameters ####"
   ]
  },
  {
   "cell_type": "code",
   "execution_count": 28,
   "metadata": {
    "collapsed": false
   },
   "outputs": [
    {
     "data": {
      "text/plain": [
       "<OrderModel(background_level=[  0.00000000e+00   0.00000000e+00   4.96868322e+09 ...,   4.95220259e+18\n",
       "   4.95220230e+18   4.95220200e+18], amplitude=[ nan  nan  nan ...,  nan  nan  nan], trace_pos=0.0, trace_slope=0.0, sigma=1.0, beta=1.5 [f])>"
      ]
     },
     "execution_count": 28,
     "metadata": {},
     "output_type": "execute_result"
    }
   ],
   "source": [
    "order_model"
   ]
  },
  {
   "cell_type": "markdown",
   "metadata": {},
   "source": [
    "#### Initializing the fitter ####"
   ]
  },
  {
   "cell_type": "code",
   "execution_count": 29,
   "metadata": {
    "collapsed": false
   },
   "outputs": [],
   "source": [
    "from xtool.model.fitters import Fitter"
   ]
  },
  {
   "cell_type": "code",
   "execution_count": 30,
   "metadata": {
    "collapsed": true
   },
   "outputs": [],
   "source": [
    "fitter = Fitter(order_model, current_order)"
   ]
  },
  {
   "cell_type": "markdown",
   "metadata": {},
   "source": [
    "#### Differential Evolution fit ####\n",
    "\n",
    "Differential evolution is a very thorough but slow processs. It does not use starting values but moves within the bounds of the parameters. "
   ]
  },
  {
   "cell_type": "code",
   "execution_count": 31,
   "metadata": {
    "collapsed": false
   },
   "outputs": [
    {
     "name": "stdout",
     "output_type": "stream",
     "text": [
      "differential_evolution step 1: f(x)= 4.22785e+06\n",
      "differential_evolution step 2: f(x)= 4.22785e+06\n",
      "differential_evolution step 3: f(x)= 2.95083e+06\n",
      "differential_evolution step 4: f(x)= 2.95083e+06\n",
      "differential_evolution step 5: f(x)= 2.26008e+06\n",
      "differential_evolution step 6: f(x)= 2.26008e+06\n",
      "differential_evolution step 7: f(x)= 2.26008e+06\n",
      "differential_evolution step 8: f(x)= 2.26008e+06\n",
      "differential_evolution step 9: f(x)= 2.06608e+06\n",
      "differential_evolution step 10: f(x)= 2.06231e+06\n",
      "differential_evolution step 11: f(x)= 2.00095e+06\n",
      "differential_evolution step 12: f(x)= 1.96445e+06\n",
      "differential_evolution step 13: f(x)= 1.96445e+06\n",
      "differential_evolution step 14: f(x)= 1.96445e+06\n",
      "differential_evolution step 15: f(x)= 1.89723e+06\n",
      "differential_evolution step 16: f(x)= 1.89723e+06\n",
      "differential_evolution step 17: f(x)= 1.89723e+06\n",
      "differential_evolution step 18: f(x)= 1.89723e+06\n",
      "differential_evolution step 19: f(x)= 1.89654e+06\n",
      "differential_evolution step 20: f(x)= 1.89654e+06\n",
      "differential_evolution step 21: f(x)= 1.89654e+06\n",
      "Fit finished in 1475.61700892 s\n"
     ]
    }
   ],
   "source": [
    "order_model.beta.fixed = False\n",
    "dresult = fitter.fit_differential_evolution(disp=True)"
   ]
  },
  {
   "cell_type": "code",
   "execution_count": 32,
   "metadata": {
    "collapsed": false
   },
   "outputs": [
    {
     "data": {
      "text/plain": [
       "     fun: 1896544.4149950482\n",
       " message: 'Optimization terminated successfully.'\n",
       "    nfev: 1425\n",
       "     nit: 21\n",
       " success: True\n",
       "       x: array([-2.44188896, -0.26832235,  0.19794569,  2.0046534 ])"
      ]
     },
     "execution_count": 32,
     "metadata": {},
     "output_type": "execute_result"
    }
   ],
   "source": [
    "dresult"
   ]
  },
  {
   "cell_type": "markdown",
   "metadata": {},
   "source": [
    "#### Nelder Mead / Simplex ####\n",
    "\n",
    "This one is much faster algorithm that will use starting values, but is unbounded"
   ]
  },
  {
   "cell_type": "code",
   "execution_count": 10,
   "metadata": {
    "collapsed": false
   },
   "outputs": [
    {
     "name": "stderr",
     "output_type": "stream",
     "text": [
      "/Users/wkerzend/anaconda3/envs/xtool/lib/python2.7/site-packages/scipy/optimize/_minimize.py:394: RuntimeWarning: Method Nelder-Mead cannot handle constraints nor bounds.\n",
      "  RuntimeWarning)\n"
     ]
    },
    {
     "name": "stdout",
     "output_type": "stream",
     "text": [
      "Fit finished in 214.419122219 s\n"
     ]
    },
    {
     "name": "stderr",
     "output_type": "stream",
     "text": [
      "/Users/wkerzend/anaconda3/envs/xtool/lib/python2.7/site-packages/scipy/sparse/linalg/dsolve/linsolve.py:243: SparseEfficiencyWarning: splu requires CSC matrix format\n",
      "  warn('splu requires CSC matrix format', SparseEfficiencyWarning)\n",
      "/Users/wkerzend/anaconda3/envs/xtool/lib/python2.7/site-packages/scipy/sparse/linalg/dsolve/linsolve.py:161: SparseEfficiencyWarning: spsolve is more efficient when sparse b is in the CSC matrix format\n",
      "  'is in the CSC matrix format', SparseEfficiencyWarning)\n"
     ]
    }
   ],
   "source": [
    "order_model.trace_pos = -2\n",
    "order_model.sigma = 0.1\n",
    "order_model.trace_slope = 0.\n",
    "order_model.beta.fixed = False\n",
    "order_model.beta = 2.0\n",
    "result = fitter.fit_scipy_minimize('Nelder-Mead')"
   ]
  },
  {
   "cell_type": "code",
   "execution_count": 11,
   "metadata": {
    "collapsed": false
   },
   "outputs": [
    {
     "data": {
      "text/plain": [
       " final_simplex: (array([[-2.43994097,  0.0029923 ,  0.19864098,  2.14546372],\n",
       "       [-2.43994097,  0.0029923 ,  0.19864098,  2.1454637 ],\n",
       "       [-2.43994096,  0.0029923 ,  0.19864097,  2.14546366],\n",
       "       [-2.43994096,  0.0029923 ,  0.19864097,  2.14546367],\n",
       "       [-2.43994096,  0.0029923 ,  0.19864097,  2.14546362]]), array([ 1896160.74067645,  1896160.74067645,  1896160.74067645,\n",
       "        1896160.74067645,  1896160.74067645]))\n",
       "           fun: 1896160.7406764471\n",
       "       message: 'Optimization terminated successfully.'\n",
       "          nfev: 294\n",
       "           nit: 142\n",
       "        status: 0\n",
       "       success: True\n",
       "             x: array([-2.43994097,  0.0029923 ,  0.19864098,  2.14546372])"
      ]
     },
     "execution_count": 11,
     "metadata": {},
     "output_type": "execute_result"
    }
   ],
   "source": [
    "result"
   ]
  },
  {
   "cell_type": "markdown",
   "metadata": {},
   "source": [
    "#### Plotting in DS9 ####"
   ]
  },
  {
   "cell_type": "code",
   "execution_count": 33,
   "metadata": {
    "collapsed": false
   },
   "outputs": [],
   "source": [
    "import pyds9"
   ]
  },
  {
   "cell_type": "code",
   "execution_count": 34,
   "metadata": {
    "collapsed": false
   },
   "outputs": [],
   "source": [
    "d = pyds9.DS9()"
   ]
  },
  {
   "cell_type": "code",
   "execution_count": 35,
   "metadata": {
    "collapsed": false
   },
   "outputs": [
    {
     "data": {
      "text/plain": [
       "1"
      ]
     },
     "execution_count": 35,
     "metadata": {},
     "output_type": "execute_result"
    }
   ],
   "source": [
    "order_model.trace_pos = dresult.x[0]\n",
    "order_model.trace_slope = dresult.x[1]\n",
    "order_model.sigma = dresult.x[2]\n",
    "order_model.beta = dresult.x[3]\n",
    "model = order_model.evaluate_to_frame(current_order, trace_pos=order_model.trace_pos, \n",
    "                                      trace_slope=order_model.trace_slope, sigma=order_model.sigma, beta=order_model.beta.value)\n",
    "d.set('frame 1')\n",
    "d.set_np2arr(current_order.data.filled())\n",
    "\n",
    "d.set('frame 2')\n",
    "d.set_np2arr(model.filled())\n",
    "\n",
    "d.set('frame 3')\n",
    "d.set_np2arr((current_order.data.filled() - model.filled())/current_order.uncertainty.filled())"
   ]
  },
  {
   "cell_type": "code",
   "execution_count": 40,
   "metadata": {
    "collapsed": false
   },
   "outputs": [
    {
     "name": "stdout",
     "output_type": "stream",
     "text": [
      "Populating the interactive namespace from numpy and matplotlib\n"
     ]
    },
    {
     "data": {
      "text/plain": [
       "<IPython.core.display.Javascript object>"
      ]
     },
     "metadata": {},
     "output_type": "display_data"
    },
    {
     "data": {
      "text/html": [
       "<img src=\"data:image/png;base64,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\">"
      ],
      "text/plain": [
       "<IPython.core.display.HTML object>"
      ]
     },
     "metadata": {},
     "output_type": "execute_result"
    },
    {
     "data": {
      "text/plain": [
       "(0, 1000)"
      ]
     },
     "execution_count": 40,
     "metadata": {},
     "output_type": "execute_result"
    }
   ],
   "source": [
    "%pylab nbagg\n",
    "spec = order_model[1].to_spectrum()\n",
    "errorbar(spec.wavelength.value, spec.flux, spec.uncertainty)\n",
    "ylim(0, 1000)"
   ]
  },
  {
   "cell_type": "code",
   "execution_count": null,
   "metadata": {
    "collapsed": true
   },
   "outputs": [],
   "source": [
    ""
   ]
  }
 ],
 "metadata": {
  "celltoolbar": "Raw Cell Format",
  "kernelspec": {
   "display_name": "Python 2",
   "language": "python",
   "name": "python2"
  },
  "language_info": {
   "codemirror_mode": {
    "name": "ipython",
    "version": 2.0
   },
   "file_extension": ".py",
   "mimetype": "text/x-python",
   "name": "python",
   "nbconvert_exporter": "python",
   "pygments_lexer": "ipython2",
   "version": "2.7.11"
  }
 },
 "nbformat": 4,
 "nbformat_minor": 0
}